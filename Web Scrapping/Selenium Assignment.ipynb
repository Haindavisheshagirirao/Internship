{
 "cells": [
  {
   "cell_type": "code",
   "execution_count": 2,
   "id": "6b51cdcd",
   "metadata": {},
   "outputs": [],
   "source": [
    "#!pip install selenium\n",
    "import warnings\n",
    "warnings.filterwarnings('ignore')"
   ]
  },
  {
   "cell_type": "markdown",
   "id": "de170a21",
   "metadata": {},
   "source": [
    "# Question 1:"
   ]
  },
  {
   "cell_type": "code",
   "execution_count": 3,
   "id": "1df169d6",
   "metadata": {},
   "outputs": [],
   "source": [
    "# importing the required libraries:\n",
    "import selenium\n",
    "from selenium import webdriver\n",
    "import pandas as pd"
   ]
  },
  {
   "cell_type": "code",
   "execution_count": 4,
   "id": "6e0b227a",
   "metadata": {},
   "outputs": [],
   "source": [
    "# Now we will connect to the web driver:\n",
    "\n",
    "driver = webdriver.Chrome('chromedriver.exe')"
   ]
  },
  {
   "cell_type": "code",
   "execution_count": 22,
   "id": "08ef9c50",
   "metadata": {},
   "outputs": [],
   "source": [
    "url = 'https://www.naukri.com/'\n",
    "driver.get(url)"
   ]
  },
  {
   "cell_type": "code",
   "execution_count": 23,
   "id": "9ba7de5a",
   "metadata": {},
   "outputs": [
    {
     "data": {
      "text/plain": [
       "<selenium.webdriver.remote.webelement.WebElement (session=\"431bf0ebd83196e109885ceb547bc091\", element=\"b627276e-4759-4480-a124-2af2d2393c5b\")>"
      ]
     },
     "execution_count": 23,
     "metadata": {},
     "output_type": "execute_result"
    }
   ],
   "source": [
    "search_job = driver.find_element_by_class_name(\"suggestor-input \")\n",
    "search_job"
   ]
  },
  {
   "cell_type": "code",
   "execution_count": 24,
   "id": "db947496",
   "metadata": {},
   "outputs": [],
   "source": [
    "search_job.send_keys(\"Data Analyst\")\n",
    "search_job.click()"
   ]
  },
  {
   "cell_type": "code",
   "execution_count": 25,
   "id": "f230903e",
   "metadata": {},
   "outputs": [
    {
     "data": {
      "text/plain": [
       "<selenium.webdriver.remote.webelement.WebElement (session=\"431bf0ebd83196e109885ceb547bc091\", element=\"7cbbab48-494d-4135-a901-bcd5a47ef01c\")>"
      ]
     },
     "execution_count": 25,
     "metadata": {},
     "output_type": "execute_result"
    }
   ],
   "source": [
    "search_location = driver.find_element_by_xpath('/html/body/div/div[2]/div[3]/div/div/div[3]/div/div/div/input')\n",
    "search_location"
   ]
  },
  {
   "cell_type": "code",
   "execution_count": 26,
   "id": "363b6f1d",
   "metadata": {},
   "outputs": [],
   "source": [
    "search_location.send_keys(\"Bangalore\")"
   ]
  },
  {
   "cell_type": "code",
   "execution_count": 27,
   "id": "651b7a83",
   "metadata": {},
   "outputs": [
    {
     "data": {
      "text/plain": [
       "<selenium.webdriver.remote.webelement.WebElement (session=\"431bf0ebd83196e109885ceb547bc091\", element=\"dc564b54-4cf3-4e08-ab60-1a6c529dd759\")>"
      ]
     },
     "execution_count": 27,
     "metadata": {},
     "output_type": "execute_result"
    }
   ],
   "source": [
    "search_button = driver.find_element_by_xpath('/html/body/div/div[2]/div[3]/div/div/div[6]')\n",
    "search_button"
   ]
  },
  {
   "cell_type": "code",
   "execution_count": 28,
   "id": "5170d4fc",
   "metadata": {},
   "outputs": [],
   "source": [
    "search_button.click()"
   ]
  },
  {
   "cell_type": "code",
   "execution_count": 29,
   "id": "9a2cb706",
   "metadata": {},
   "outputs": [
    {
     "data": {
      "text/plain": [
       "[<selenium.webdriver.remote.webelement.WebElement (session=\"431bf0ebd83196e109885ceb547bc091\", element=\"24c14a35-2785-4076-926c-9a1d8f2a4cc2\")>,\n",
       " <selenium.webdriver.remote.webelement.WebElement (session=\"431bf0ebd83196e109885ceb547bc091\", element=\"1d7e8056-a731-4248-9140-e1ee6a1b0df4\")>,\n",
       " <selenium.webdriver.remote.webelement.WebElement (session=\"431bf0ebd83196e109885ceb547bc091\", element=\"73f6e934-9f96-48cf-9bc9-92c6c25a3ea2\")>,\n",
       " <selenium.webdriver.remote.webelement.WebElement (session=\"431bf0ebd83196e109885ceb547bc091\", element=\"896b3066-43fb-48aa-aaa3-3a847cb1eff3\")>,\n",
       " <selenium.webdriver.remote.webelement.WebElement (session=\"431bf0ebd83196e109885ceb547bc091\", element=\"e8980083-db90-4194-8536-057c4d988405\")>,\n",
       " <selenium.webdriver.remote.webelement.WebElement (session=\"431bf0ebd83196e109885ceb547bc091\", element=\"d919fffe-e495-42e1-999a-e0c668bf6e7d\")>,\n",
       " <selenium.webdriver.remote.webelement.WebElement (session=\"431bf0ebd83196e109885ceb547bc091\", element=\"4d3a1e00-9909-4cc5-b409-3c3805d47b46\")>,\n",
       " <selenium.webdriver.remote.webelement.WebElement (session=\"431bf0ebd83196e109885ceb547bc091\", element=\"d609d251-8109-4eb1-b673-97f40cca157e\")>,\n",
       " <selenium.webdriver.remote.webelement.WebElement (session=\"431bf0ebd83196e109885ceb547bc091\", element=\"cc26bb97-01f0-450b-83bd-577dcef70157\")>,\n",
       " <selenium.webdriver.remote.webelement.WebElement (session=\"431bf0ebd83196e109885ceb547bc091\", element=\"43c0502d-c77b-4ad0-b32d-3993d8d24d76\")>]"
      ]
     },
     "execution_count": 29,
     "metadata": {},
     "output_type": "execute_result"
    }
   ],
   "source": [
    "title_tags = driver.find_elements_by_xpath('//a[@class = \"title fw500 ellipsis\"]')\n",
    "len(title_tags)\n",
    "title_tags[0:10]"
   ]
  },
  {
   "cell_type": "code",
   "execution_count": 30,
   "id": "102243b9",
   "metadata": {},
   "outputs": [
    {
     "data": {
      "text/plain": [
       "['Hiring Data Analyst For Global Logic-Immediate Joiner',\n",
       " 'Senior Data Analyst',\n",
       " 'Junior Data Analyst/ Scientist- Fresher Position',\n",
       " 'Assistant Clinical Data Analyst',\n",
       " 'Lead - Data Analyst / Scientist',\n",
       " 'Data Analyst / Sr. Data Analyst',\n",
       " 'Senior Data Analyst - CRM',\n",
       " 'Senior Data Analyst - Supporting Audits',\n",
       " 'Research - Data Analyst / Associate',\n",
       " 'Data Analyst 1']"
      ]
     },
     "execution_count": 30,
     "metadata": {},
     "output_type": "execute_result"
    }
   ],
   "source": [
    "job_titles = []\n",
    "\n",
    "for i in title_tags:\n",
    "    job_titles.append(i.text)\n",
    "a = job_titles[0:10]   \n",
    "a"
   ]
  },
  {
   "cell_type": "code",
   "execution_count": 31,
   "id": "649206f4",
   "metadata": {},
   "outputs": [
    {
     "data": {
      "text/plain": [
       "[<selenium.webdriver.remote.webelement.WebElement (session=\"431bf0ebd83196e109885ceb547bc091\", element=\"40706281-dcb9-4ffd-b6f2-fa600e4870e7\")>,\n",
       " <selenium.webdriver.remote.webelement.WebElement (session=\"431bf0ebd83196e109885ceb547bc091\", element=\"9915986f-e27f-48a7-959b-36c58d1f5749\")>,\n",
       " <selenium.webdriver.remote.webelement.WebElement (session=\"431bf0ebd83196e109885ceb547bc091\", element=\"8a12f6a9-74c7-4b24-9534-ecdc8d6b478f\")>,\n",
       " <selenium.webdriver.remote.webelement.WebElement (session=\"431bf0ebd83196e109885ceb547bc091\", element=\"7eb98be1-1026-4025-9b34-a72fd9e281c5\")>,\n",
       " <selenium.webdriver.remote.webelement.WebElement (session=\"431bf0ebd83196e109885ceb547bc091\", element=\"6a6547c8-eca2-4e44-84f4-5d7a3c344d7f\")>,\n",
       " <selenium.webdriver.remote.webelement.WebElement (session=\"431bf0ebd83196e109885ceb547bc091\", element=\"f2c5fa94-8dbb-4c4c-87cd-8f394c924ef2\")>,\n",
       " <selenium.webdriver.remote.webelement.WebElement (session=\"431bf0ebd83196e109885ceb547bc091\", element=\"dd4bb9a0-fb32-4899-a356-a924dc48aa32\")>,\n",
       " <selenium.webdriver.remote.webelement.WebElement (session=\"431bf0ebd83196e109885ceb547bc091\", element=\"3f1cc7ec-a7a2-4428-ab3e-42862f18fa35\")>,\n",
       " <selenium.webdriver.remote.webelement.WebElement (session=\"431bf0ebd83196e109885ceb547bc091\", element=\"bd84d44c-99c8-4db7-b3d0-162fa56c6dd9\")>,\n",
       " <selenium.webdriver.remote.webelement.WebElement (session=\"431bf0ebd83196e109885ceb547bc091\", element=\"44e3880f-9827-4fbb-b624-6ecc3ee515e1\")>]"
      ]
     },
     "execution_count": 31,
     "metadata": {},
     "output_type": "execute_result"
    }
   ],
   "source": [
    "location = driver.find_elements_by_xpath('//li[@class = \"fleft grey-text br2 placeHolderLi location\"]')\n",
    "len(location)\n",
    "location[0:10]"
   ]
  },
  {
   "cell_type": "code",
   "execution_count": 32,
   "id": "2a8cad13",
   "metadata": {},
   "outputs": [
    {
     "data": {
      "text/plain": [
       "['Noida, Nagpur, Pune, Gurgaon/Gurugram, Bangalore/Bengaluru\\n(WFH during Covid)',\n",
       " 'Bengaluru/Bangalore',\n",
       " 'Kolkata, Gurgaon/Gurugram, Bangalore/Bengaluru\\n(WFH during Covid)',\n",
       " 'Bangalore/Bengaluru',\n",
       " 'Bangalore/Bengaluru',\n",
       " 'Bangalore/Bengaluru',\n",
       " 'Bangalore/Bengaluru',\n",
       " 'Bangalore/Bengaluru',\n",
       " 'Mumbai, Delhi / NCR, Bangalore/Bengaluru',\n",
       " 'Bangalore/Bengaluru']"
      ]
     },
     "execution_count": 32,
     "metadata": {},
     "output_type": "execute_result"
    }
   ],
   "source": [
    "job_location = []\n",
    "\n",
    "for i in location:\n",
    "    job_location.append(i.text)\n",
    "b = job_location[0:10]    \n",
    "b"
   ]
  },
  {
   "cell_type": "code",
   "execution_count": 33,
   "id": "9e5ca189",
   "metadata": {},
   "outputs": [
    {
     "data": {
      "text/plain": [
       "[<selenium.webdriver.remote.webelement.WebElement (session=\"431bf0ebd83196e109885ceb547bc091\", element=\"b84d0d7b-1164-4655-8f70-0e8971bfe077\")>,\n",
       " <selenium.webdriver.remote.webelement.WebElement (session=\"431bf0ebd83196e109885ceb547bc091\", element=\"64d0ba45-44c1-4353-b543-698cebc86a40\")>,\n",
       " <selenium.webdriver.remote.webelement.WebElement (session=\"431bf0ebd83196e109885ceb547bc091\", element=\"390962d7-33d7-4c4e-a8d3-fe4bbf61a5c5\")>,\n",
       " <selenium.webdriver.remote.webelement.WebElement (session=\"431bf0ebd83196e109885ceb547bc091\", element=\"6270d3f2-bb87-4692-91e7-842f9591a86e\")>,\n",
       " <selenium.webdriver.remote.webelement.WebElement (session=\"431bf0ebd83196e109885ceb547bc091\", element=\"3e284e24-cee4-4ede-9a53-4fd2b2e76c9b\")>,\n",
       " <selenium.webdriver.remote.webelement.WebElement (session=\"431bf0ebd83196e109885ceb547bc091\", element=\"6c6ea9f2-3cd0-425b-8f79-4ca1a2024596\")>,\n",
       " <selenium.webdriver.remote.webelement.WebElement (session=\"431bf0ebd83196e109885ceb547bc091\", element=\"ecc1ad6a-ef1c-476b-ae0b-1afd7fea7f37\")>,\n",
       " <selenium.webdriver.remote.webelement.WebElement (session=\"431bf0ebd83196e109885ceb547bc091\", element=\"c2b539ab-146b-456d-a9b7-e89fa6636480\")>,\n",
       " <selenium.webdriver.remote.webelement.WebElement (session=\"431bf0ebd83196e109885ceb547bc091\", element=\"414fe77c-6d09-4883-8fbd-e9841b9753d5\")>,\n",
       " <selenium.webdriver.remote.webelement.WebElement (session=\"431bf0ebd83196e109885ceb547bc091\", element=\"e80fbcb8-e1f0-4ad4-85cc-d3380380c353\")>]"
      ]
     },
     "execution_count": 33,
     "metadata": {},
     "output_type": "execute_result"
    }
   ],
   "source": [
    "company = driver.find_elements_by_xpath('//a[@class = \"subTitle ellipsis fleft\"]')\n",
    "len(company)\n",
    "company[0:10]"
   ]
  },
  {
   "cell_type": "code",
   "execution_count": 34,
   "id": "2a615eca",
   "metadata": {},
   "outputs": [
    {
     "data": {
      "text/plain": [
       "['GlobalLogic',\n",
       " 'Flipkart',\n",
       " 'Sejal Consulting Hub',\n",
       " 'Labcorp Drug Development India Private Limited',\n",
       " 'Axim Technologies',\n",
       " 'Vmware',\n",
       " 'Gojek Tech',\n",
       " 'Visa',\n",
       " 'AXL HR Tech',\n",
       " 'Optum Global Solutions (India) Private Limited']"
      ]
     },
     "execution_count": 34,
     "metadata": {},
     "output_type": "execute_result"
    }
   ],
   "source": [
    "company_name = []\n",
    "\n",
    "for i in company:\n",
    "    company_name.append(i.text)\n",
    "c = company_name[0:10]    \n",
    "c"
   ]
  },
  {
   "cell_type": "code",
   "execution_count": 35,
   "id": "809f00d6",
   "metadata": {},
   "outputs": [
    {
     "data": {
      "text/plain": [
       "[<selenium.webdriver.remote.webelement.WebElement (session=\"431bf0ebd83196e109885ceb547bc091\", element=\"09dd49e7-14b7-4cbf-8827-63688227d743\")>,\n",
       " <selenium.webdriver.remote.webelement.WebElement (session=\"431bf0ebd83196e109885ceb547bc091\", element=\"731b6d34-b020-41c5-8a4e-69929cc7d1a3\")>,\n",
       " <selenium.webdriver.remote.webelement.WebElement (session=\"431bf0ebd83196e109885ceb547bc091\", element=\"ae2e2026-4f3c-448f-b8b1-6e27ba86476e\")>,\n",
       " <selenium.webdriver.remote.webelement.WebElement (session=\"431bf0ebd83196e109885ceb547bc091\", element=\"88c6a303-801b-4f41-a6cd-fa311036eeeb\")>,\n",
       " <selenium.webdriver.remote.webelement.WebElement (session=\"431bf0ebd83196e109885ceb547bc091\", element=\"f295c8b0-df10-4173-8b6a-33ebefcd3ddd\")>,\n",
       " <selenium.webdriver.remote.webelement.WebElement (session=\"431bf0ebd83196e109885ceb547bc091\", element=\"dc5494ef-9251-49b7-8d82-fcd2939be255\")>,\n",
       " <selenium.webdriver.remote.webelement.WebElement (session=\"431bf0ebd83196e109885ceb547bc091\", element=\"9c287db4-41ea-4bbf-ba38-0bcd3d86d583\")>,\n",
       " <selenium.webdriver.remote.webelement.WebElement (session=\"431bf0ebd83196e109885ceb547bc091\", element=\"9aedbd2b-4bf2-4203-8b1e-b6fd64565591\")>,\n",
       " <selenium.webdriver.remote.webelement.WebElement (session=\"431bf0ebd83196e109885ceb547bc091\", element=\"d656aa12-3531-4828-993c-1a05d88b215b\")>,\n",
       " <selenium.webdriver.remote.webelement.WebElement (session=\"431bf0ebd83196e109885ceb547bc091\", element=\"9aa2084d-ac41-4f62-9cc7-8050a74f3319\")>]"
      ]
     },
     "execution_count": 35,
     "metadata": {},
     "output_type": "execute_result"
    }
   ],
   "source": [
    "Experience = driver.find_elements_by_xpath('//li[@class = \"fleft grey-text br2 placeHolderLi experience\"]')\n",
    "len(Experience)\n",
    "Experience[0:10]"
   ]
  },
  {
   "cell_type": "code",
   "execution_count": 36,
   "id": "617ec88a",
   "metadata": {},
   "outputs": [
    {
     "data": {
      "text/plain": [
       "['4-8 Yrs',\n",
       " '4-6 Yrs',\n",
       " '0-3 Yrs',\n",
       " '0-2 Yrs',\n",
       " '12-14 Yrs',\n",
       " '3-6 Yrs',\n",
       " '2-5 Yrs',\n",
       " '5-8 Yrs',\n",
       " '0-2 Yrs',\n",
       " '4-9 Yrs']"
      ]
     },
     "execution_count": 36,
     "metadata": {},
     "output_type": "execute_result"
    }
   ],
   "source": [
    "job_experience = []\n",
    "\n",
    "for i in Experience:\n",
    "    job_experience.append(i.text)\n",
    "d = job_experience[0:10]    \n",
    "d"
   ]
  },
  {
   "cell_type": "code",
   "execution_count": 37,
   "id": "fb1e2e06",
   "metadata": {},
   "outputs": [
    {
     "data": {
      "text/html": [
       "<div>\n",
       "<style scoped>\n",
       "    .dataframe tbody tr th:only-of-type {\n",
       "        vertical-align: middle;\n",
       "    }\n",
       "\n",
       "    .dataframe tbody tr th {\n",
       "        vertical-align: top;\n",
       "    }\n",
       "\n",
       "    .dataframe thead th {\n",
       "        text-align: right;\n",
       "    }\n",
       "</style>\n",
       "<table border=\"1\" class=\"dataframe\">\n",
       "  <thead>\n",
       "    <tr style=\"text-align: right;\">\n",
       "      <th></th>\n",
       "      <th>Job Title</th>\n",
       "      <th>Job Location</th>\n",
       "      <th>Company Name</th>\n",
       "      <th>Job experience</th>\n",
       "    </tr>\n",
       "  </thead>\n",
       "  <tbody>\n",
       "    <tr>\n",
       "      <th>0</th>\n",
       "      <td>Hiring Data Analyst For Global Logic-Immediate...</td>\n",
       "      <td>Noida, Nagpur, Pune, Gurgaon/Gurugram, Bangalo...</td>\n",
       "      <td>GlobalLogic</td>\n",
       "      <td>4-8 Yrs</td>\n",
       "    </tr>\n",
       "    <tr>\n",
       "      <th>1</th>\n",
       "      <td>Senior Data Analyst</td>\n",
       "      <td>Bengaluru/Bangalore</td>\n",
       "      <td>Flipkart</td>\n",
       "      <td>4-6 Yrs</td>\n",
       "    </tr>\n",
       "    <tr>\n",
       "      <th>2</th>\n",
       "      <td>Junior Data Analyst/ Scientist- Fresher Position</td>\n",
       "      <td>Kolkata, Gurgaon/Gurugram, Bangalore/Bengaluru...</td>\n",
       "      <td>Sejal Consulting Hub</td>\n",
       "      <td>0-3 Yrs</td>\n",
       "    </tr>\n",
       "    <tr>\n",
       "      <th>3</th>\n",
       "      <td>Assistant Clinical Data Analyst</td>\n",
       "      <td>Bangalore/Bengaluru</td>\n",
       "      <td>Labcorp Drug Development India Private Limited</td>\n",
       "      <td>0-2 Yrs</td>\n",
       "    </tr>\n",
       "    <tr>\n",
       "      <th>4</th>\n",
       "      <td>Lead - Data Analyst / Scientist</td>\n",
       "      <td>Bangalore/Bengaluru</td>\n",
       "      <td>Axim Technologies</td>\n",
       "      <td>12-14 Yrs</td>\n",
       "    </tr>\n",
       "    <tr>\n",
       "      <th>5</th>\n",
       "      <td>Data Analyst / Sr. Data Analyst</td>\n",
       "      <td>Bangalore/Bengaluru</td>\n",
       "      <td>Vmware</td>\n",
       "      <td>3-6 Yrs</td>\n",
       "    </tr>\n",
       "    <tr>\n",
       "      <th>6</th>\n",
       "      <td>Senior Data Analyst - CRM</td>\n",
       "      <td>Bangalore/Bengaluru</td>\n",
       "      <td>Gojek Tech</td>\n",
       "      <td>2-5 Yrs</td>\n",
       "    </tr>\n",
       "    <tr>\n",
       "      <th>7</th>\n",
       "      <td>Senior Data Analyst - Supporting Audits</td>\n",
       "      <td>Bangalore/Bengaluru</td>\n",
       "      <td>Visa</td>\n",
       "      <td>5-8 Yrs</td>\n",
       "    </tr>\n",
       "    <tr>\n",
       "      <th>8</th>\n",
       "      <td>Research - Data Analyst / Associate</td>\n",
       "      <td>Mumbai, Delhi / NCR, Bangalore/Bengaluru</td>\n",
       "      <td>AXL HR Tech</td>\n",
       "      <td>0-2 Yrs</td>\n",
       "    </tr>\n",
       "    <tr>\n",
       "      <th>9</th>\n",
       "      <td>Data Analyst 1</td>\n",
       "      <td>Bangalore/Bengaluru</td>\n",
       "      <td>Optum Global Solutions (India) Private Limited</td>\n",
       "      <td>4-9 Yrs</td>\n",
       "    </tr>\n",
       "  </tbody>\n",
       "</table>\n",
       "</div>"
      ],
      "text/plain": [
       "                                           Job Title  \\\n",
       "0  Hiring Data Analyst For Global Logic-Immediate...   \n",
       "1                                Senior Data Analyst   \n",
       "2   Junior Data Analyst/ Scientist- Fresher Position   \n",
       "3                    Assistant Clinical Data Analyst   \n",
       "4                    Lead - Data Analyst / Scientist   \n",
       "5                    Data Analyst / Sr. Data Analyst   \n",
       "6                          Senior Data Analyst - CRM   \n",
       "7            Senior Data Analyst - Supporting Audits   \n",
       "8                Research - Data Analyst / Associate   \n",
       "9                                     Data Analyst 1   \n",
       "\n",
       "                                        Job Location  \\\n",
       "0  Noida, Nagpur, Pune, Gurgaon/Gurugram, Bangalo...   \n",
       "1                                Bengaluru/Bangalore   \n",
       "2  Kolkata, Gurgaon/Gurugram, Bangalore/Bengaluru...   \n",
       "3                                Bangalore/Bengaluru   \n",
       "4                                Bangalore/Bengaluru   \n",
       "5                                Bangalore/Bengaluru   \n",
       "6                                Bangalore/Bengaluru   \n",
       "7                                Bangalore/Bengaluru   \n",
       "8           Mumbai, Delhi / NCR, Bangalore/Bengaluru   \n",
       "9                                Bangalore/Bengaluru   \n",
       "\n",
       "                                     Company Name Job experience  \n",
       "0                                     GlobalLogic        4-8 Yrs  \n",
       "1                                        Flipkart        4-6 Yrs  \n",
       "2                            Sejal Consulting Hub        0-3 Yrs  \n",
       "3  Labcorp Drug Development India Private Limited        0-2 Yrs  \n",
       "4                               Axim Technologies      12-14 Yrs  \n",
       "5                                          Vmware        3-6 Yrs  \n",
       "6                                      Gojek Tech        2-5 Yrs  \n",
       "7                                            Visa        5-8 Yrs  \n",
       "8                                     AXL HR Tech        0-2 Yrs  \n",
       "9  Optum Global Solutions (India) Private Limited        4-9 Yrs  "
      ]
     },
     "execution_count": 37,
     "metadata": {},
     "output_type": "execute_result"
    }
   ],
   "source": [
    "df = pd.DataFrame()\n",
    "df['Job Title'] = a\n",
    "df['Job Location'] = b\n",
    "df['Company Name'] = c\n",
    "df['Job experience'] = d\n",
    "df"
   ]
  },
  {
   "cell_type": "code",
   "execution_count": 38,
   "id": "5dca4cf8",
   "metadata": {},
   "outputs": [],
   "source": [
    "driver.close()"
   ]
  },
  {
   "cell_type": "markdown",
   "id": "2bb90a76",
   "metadata": {},
   "source": [
    "# Question - 2:"
   ]
  },
  {
   "cell_type": "code",
   "execution_count": 39,
   "id": "9c583541",
   "metadata": {},
   "outputs": [],
   "source": [
    "driver = webdriver.Chrome('chromedriver.exe')"
   ]
  },
  {
   "cell_type": "code",
   "execution_count": 40,
   "id": "0ffced59",
   "metadata": {},
   "outputs": [],
   "source": [
    "url = 'https://www.naukri.com/'\n",
    "driver.get(url)"
   ]
  },
  {
   "cell_type": "code",
   "execution_count": 41,
   "id": "58cc6d3a",
   "metadata": {},
   "outputs": [
    {
     "data": {
      "text/plain": [
       "<selenium.webdriver.remote.webelement.WebElement (session=\"af2b53d389c42fb843dad40ae9d27a00\", element=\"77a2eb97-935c-4326-b155-bf0fd478a6f7\")>"
      ]
     },
     "execution_count": 41,
     "metadata": {},
     "output_type": "execute_result"
    }
   ],
   "source": [
    "search_job = driver.find_element_by_class_name(\"suggestor-input\")\n",
    "search_job"
   ]
  },
  {
   "cell_type": "code",
   "execution_count": 42,
   "id": "0b1e0c86",
   "metadata": {},
   "outputs": [],
   "source": [
    "search_job.send_keys(\"Data Scientist\")"
   ]
  },
  {
   "cell_type": "code",
   "execution_count": 43,
   "id": "0f1b2c67",
   "metadata": {},
   "outputs": [
    {
     "data": {
      "text/plain": [
       "<selenium.webdriver.remote.webelement.WebElement (session=\"af2b53d389c42fb843dad40ae9d27a00\", element=\"b94b5c73-3f31-4803-8d5d-67188add39d7\")>"
      ]
     },
     "execution_count": 43,
     "metadata": {},
     "output_type": "execute_result"
    }
   ],
   "source": [
    "search_location = driver.find_element_by_xpath('/html/body/div/div[2]/div[3]/div/div/div[3]/div/div/div/input')\n",
    "search_location"
   ]
  },
  {
   "cell_type": "code",
   "execution_count": 44,
   "id": "147671ef",
   "metadata": {},
   "outputs": [],
   "source": [
    "search_location.send_keys(\"Bangalore\")"
   ]
  },
  {
   "cell_type": "code",
   "execution_count": 45,
   "id": "896f4484",
   "metadata": {},
   "outputs": [
    {
     "data": {
      "text/plain": [
       "<selenium.webdriver.remote.webelement.WebElement (session=\"af2b53d389c42fb843dad40ae9d27a00\", element=\"feffdcb0-be74-4f14-915b-aaa0100b8737\")>"
      ]
     },
     "execution_count": 45,
     "metadata": {},
     "output_type": "execute_result"
    }
   ],
   "source": [
    "search_button = driver.find_element_by_xpath('/html/body/div/div[2]/div[3]/div/div/div[6]')\n",
    "search_button"
   ]
  },
  {
   "cell_type": "code",
   "execution_count": 46,
   "id": "b80202f6",
   "metadata": {},
   "outputs": [],
   "source": [
    "search_button.click()"
   ]
  },
  {
   "cell_type": "code",
   "execution_count": 47,
   "id": "d757443e",
   "metadata": {},
   "outputs": [
    {
     "data": {
      "text/plain": [
       "[<selenium.webdriver.remote.webelement.WebElement (session=\"af2b53d389c42fb843dad40ae9d27a00\", element=\"fdee7b7d-211f-4336-acb1-5f939418753b\")>,\n",
       " <selenium.webdriver.remote.webelement.WebElement (session=\"af2b53d389c42fb843dad40ae9d27a00\", element=\"022b2055-2db9-44b0-b17d-c50ba0b84daf\")>,\n",
       " <selenium.webdriver.remote.webelement.WebElement (session=\"af2b53d389c42fb843dad40ae9d27a00\", element=\"5331f24f-e6cc-4f95-9bba-1474f4567a4a\")>,\n",
       " <selenium.webdriver.remote.webelement.WebElement (session=\"af2b53d389c42fb843dad40ae9d27a00\", element=\"9c152bf0-04f0-4d77-b54e-25c588f8362c\")>,\n",
       " <selenium.webdriver.remote.webelement.WebElement (session=\"af2b53d389c42fb843dad40ae9d27a00\", element=\"b8f790f7-4a7d-4bf1-aa9b-5822504ba167\")>,\n",
       " <selenium.webdriver.remote.webelement.WebElement (session=\"af2b53d389c42fb843dad40ae9d27a00\", element=\"d5dad6fa-d444-429d-a2d5-f0321d6898b3\")>,\n",
       " <selenium.webdriver.remote.webelement.WebElement (session=\"af2b53d389c42fb843dad40ae9d27a00\", element=\"b91e8e45-07f6-4e95-86b8-7df8f49a2276\")>,\n",
       " <selenium.webdriver.remote.webelement.WebElement (session=\"af2b53d389c42fb843dad40ae9d27a00\", element=\"3e96c2f2-5388-46bc-8efa-bd7c20fa464c\")>,\n",
       " <selenium.webdriver.remote.webelement.WebElement (session=\"af2b53d389c42fb843dad40ae9d27a00\", element=\"11a46cf4-f417-414f-97cc-27b0bd629b20\")>,\n",
       " <selenium.webdriver.remote.webelement.WebElement (session=\"af2b53d389c42fb843dad40ae9d27a00\", element=\"b34a02cc-3fc7-4063-a9f7-bffe5183630c\")>]"
      ]
     },
     "execution_count": 47,
     "metadata": {},
     "output_type": "execute_result"
    }
   ],
   "source": [
    "title_tags = driver.find_elements_by_xpath('//a[@class = \"title fw500 ellipsis\"]')\n",
    "len(title_tags)\n",
    "title_tags[0:10]"
   ]
  },
  {
   "cell_type": "code",
   "execution_count": 48,
   "id": "70a04d2c",
   "metadata": {},
   "outputs": [
    {
     "data": {
      "text/plain": [
       "['Data Scientist: Advanced Analytics',\n",
       " 'Data Scientist: Advanced Analytics',\n",
       " 'Sr . Data Scientist',\n",
       " 'Senior Data Scientist',\n",
       " 'Sr Data Scientist',\n",
       " 'Senior Data Scientist',\n",
       " 'Senior Data Scientist',\n",
       " 'Senior Data Scientist - Python/Machine Learning Algorithms',\n",
       " 'Senior/Lead Data Scientist - (Revenue Management)',\n",
       " 'Senior/Lead - Data Scientist (Supply Chain)']"
      ]
     },
     "execution_count": 48,
     "metadata": {},
     "output_type": "execute_result"
    }
   ],
   "source": [
    "job_titles = []\n",
    "\n",
    "for i in title_tags:\n",
    "    job_titles.append(i.text)\n",
    "e = job_titles[0:10]   \n",
    "e"
   ]
  },
  {
   "cell_type": "code",
   "execution_count": 49,
   "id": "62634d3e",
   "metadata": {},
   "outputs": [
    {
     "data": {
      "text/plain": [
       "[<selenium.webdriver.remote.webelement.WebElement (session=\"af2b53d389c42fb843dad40ae9d27a00\", element=\"7b73f7e4-8468-4e40-b641-03047fc3b58d\")>,\n",
       " <selenium.webdriver.remote.webelement.WebElement (session=\"af2b53d389c42fb843dad40ae9d27a00\", element=\"876f49d7-0187-4dfb-8cd1-ec075f3c646b\")>,\n",
       " <selenium.webdriver.remote.webelement.WebElement (session=\"af2b53d389c42fb843dad40ae9d27a00\", element=\"2a4e466c-017a-48d4-81fb-cc8c2767d3a5\")>,\n",
       " <selenium.webdriver.remote.webelement.WebElement (session=\"af2b53d389c42fb843dad40ae9d27a00\", element=\"dad2585c-ff1b-4f00-8c05-85bc3eb8ca7c\")>,\n",
       " <selenium.webdriver.remote.webelement.WebElement (session=\"af2b53d389c42fb843dad40ae9d27a00\", element=\"018ecd08-872e-452b-8f0c-621352174263\")>,\n",
       " <selenium.webdriver.remote.webelement.WebElement (session=\"af2b53d389c42fb843dad40ae9d27a00\", element=\"da517303-45e6-46a5-9d88-f2fb2d8aef53\")>,\n",
       " <selenium.webdriver.remote.webelement.WebElement (session=\"af2b53d389c42fb843dad40ae9d27a00\", element=\"637ca47c-b060-4424-85a9-1385030e7928\")>,\n",
       " <selenium.webdriver.remote.webelement.WebElement (session=\"af2b53d389c42fb843dad40ae9d27a00\", element=\"c532bddb-9997-4e16-bf60-7fb0fc9a3e18\")>,\n",
       " <selenium.webdriver.remote.webelement.WebElement (session=\"af2b53d389c42fb843dad40ae9d27a00\", element=\"fa212ec3-a1e1-4559-bf96-bc641c672d5e\")>,\n",
       " <selenium.webdriver.remote.webelement.WebElement (session=\"af2b53d389c42fb843dad40ae9d27a00\", element=\"bd59f622-d18b-4126-bd27-00d70d96bc6e\")>]"
      ]
     },
     "execution_count": 49,
     "metadata": {},
     "output_type": "execute_result"
    }
   ],
   "source": [
    "location = driver.find_elements_by_xpath('//li[@class = \"fleft grey-text br2 placeHolderLi location\"]')\n",
    "len(location)\n",
    "location[0:10]"
   ]
  },
  {
   "cell_type": "code",
   "execution_count": 50,
   "id": "3f2bd97a",
   "metadata": {},
   "outputs": [
    {
     "data": {
      "text/plain": [
       "['Bangalore/Bengaluru',\n",
       " 'Bengaluru/Bangalore',\n",
       " 'Bangalore/Bengaluru',\n",
       " 'Bangalore/Bengaluru',\n",
       " 'Bangalore/Bengaluru',\n",
       " 'Bangalore/Bengaluru',\n",
       " 'Bangalore/Bengaluru',\n",
       " 'Mumbai, Hyderabad/Secunderabad, Pune, Bangalore/Bengaluru',\n",
       " 'Bangalore/Bengaluru',\n",
       " 'Bangalore/Bengaluru']"
      ]
     },
     "execution_count": 50,
     "metadata": {},
     "output_type": "execute_result"
    }
   ],
   "source": [
    "job_location = []\n",
    "\n",
    "for i in location:\n",
    "    job_location.append(i.text)\n",
    "f = job_location[0:10]    \n",
    "f"
   ]
  },
  {
   "cell_type": "code",
   "execution_count": 51,
   "id": "ed8fc9f2",
   "metadata": {},
   "outputs": [
    {
     "data": {
      "text/plain": [
       "[<selenium.webdriver.remote.webelement.WebElement (session=\"af2b53d389c42fb843dad40ae9d27a00\", element=\"79876377-bd1d-410b-9839-671928b261bf\")>,\n",
       " <selenium.webdriver.remote.webelement.WebElement (session=\"af2b53d389c42fb843dad40ae9d27a00\", element=\"35f4bdad-09e8-466e-ac3f-ce5d533dc3a3\")>,\n",
       " <selenium.webdriver.remote.webelement.WebElement (session=\"af2b53d389c42fb843dad40ae9d27a00\", element=\"a458a672-af1f-4b04-baf1-f2d47f314a47\")>,\n",
       " <selenium.webdriver.remote.webelement.WebElement (session=\"af2b53d389c42fb843dad40ae9d27a00\", element=\"04b18063-2a17-4c19-a9c8-ebe370f28f15\")>,\n",
       " <selenium.webdriver.remote.webelement.WebElement (session=\"af2b53d389c42fb843dad40ae9d27a00\", element=\"d96f7ded-4b55-458e-90cc-f3d48411bb88\")>,\n",
       " <selenium.webdriver.remote.webelement.WebElement (session=\"af2b53d389c42fb843dad40ae9d27a00\", element=\"b0f3b6bd-09a2-4fc6-8988-510556a55065\")>,\n",
       " <selenium.webdriver.remote.webelement.WebElement (session=\"af2b53d389c42fb843dad40ae9d27a00\", element=\"602acd4b-6658-44a7-9e75-62ad9dd114ff\")>,\n",
       " <selenium.webdriver.remote.webelement.WebElement (session=\"af2b53d389c42fb843dad40ae9d27a00\", element=\"a1bbe561-7613-478e-961a-838674285b69\")>,\n",
       " <selenium.webdriver.remote.webelement.WebElement (session=\"af2b53d389c42fb843dad40ae9d27a00\", element=\"e0ba4a71-9caa-418f-a77d-92995fe95b2f\")>,\n",
       " <selenium.webdriver.remote.webelement.WebElement (session=\"af2b53d389c42fb843dad40ae9d27a00\", element=\"cc2cd947-b87f-4836-9f5f-0016929602b6\")>]"
      ]
     },
     "execution_count": 51,
     "metadata": {},
     "output_type": "execute_result"
    }
   ],
   "source": [
    "company = driver.find_elements_by_xpath('//a[@class = \"subTitle ellipsis fleft\"]')\n",
    "len(company)\n",
    "company[0:10]"
   ]
  },
  {
   "cell_type": "code",
   "execution_count": 52,
   "id": "16908c2e",
   "metadata": {},
   "outputs": [
    {
     "data": {
      "text/plain": [
       "['IBM',\n",
       " 'IBM',\n",
       " 'Harman Connected Services Corporation India Pvt.',\n",
       " 'Slice',\n",
       " 'Siemens',\n",
       " 'Dell',\n",
       " 'Dell',\n",
       " 'Altimax Business Solutions',\n",
       " 'o9 Solutions Management India Private Limited',\n",
       " 'o9 Solutions Management India Private Limited']"
      ]
     },
     "execution_count": 52,
     "metadata": {},
     "output_type": "execute_result"
    }
   ],
   "source": [
    "company_name = []\n",
    "\n",
    "for i in company:\n",
    "    company_name.append(i.text)\n",
    "g = company_name[0:10]    \n",
    "g"
   ]
  },
  {
   "cell_type": "code",
   "execution_count": 53,
   "id": "cc4b9eeb",
   "metadata": {},
   "outputs": [
    {
     "data": {
      "text/plain": [
       "[<selenium.webdriver.remote.webelement.WebElement (session=\"af2b53d389c42fb843dad40ae9d27a00\", element=\"7412f377-f9fc-4f34-af7a-182f4bb1adfa\")>,\n",
       " <selenium.webdriver.remote.webelement.WebElement (session=\"af2b53d389c42fb843dad40ae9d27a00\", element=\"398ab2be-a76c-46b3-a758-51ca9bd032aa\")>,\n",
       " <selenium.webdriver.remote.webelement.WebElement (session=\"af2b53d389c42fb843dad40ae9d27a00\", element=\"b689c893-6815-472a-8bd2-5d9631fd0691\")>,\n",
       " <selenium.webdriver.remote.webelement.WebElement (session=\"af2b53d389c42fb843dad40ae9d27a00\", element=\"73a21a0a-f98f-42ef-ac95-9913b86c1f8e\")>,\n",
       " <selenium.webdriver.remote.webelement.WebElement (session=\"af2b53d389c42fb843dad40ae9d27a00\", element=\"13c213b2-5c60-4057-a612-e81a7276cd00\")>,\n",
       " <selenium.webdriver.remote.webelement.WebElement (session=\"af2b53d389c42fb843dad40ae9d27a00\", element=\"1ccd0c8f-9d85-4182-89ed-f98c70cfb18f\")>,\n",
       " <selenium.webdriver.remote.webelement.WebElement (session=\"af2b53d389c42fb843dad40ae9d27a00\", element=\"e530fc7b-cc11-4d94-9992-6af73a72b531\")>,\n",
       " <selenium.webdriver.remote.webelement.WebElement (session=\"af2b53d389c42fb843dad40ae9d27a00\", element=\"ace8be61-d815-4318-ac1f-63573d6730e0\")>,\n",
       " <selenium.webdriver.remote.webelement.WebElement (session=\"af2b53d389c42fb843dad40ae9d27a00\", element=\"3e13a0e7-4994-4c16-ab97-c87d5816866e\")>,\n",
       " <selenium.webdriver.remote.webelement.WebElement (session=\"af2b53d389c42fb843dad40ae9d27a00\", element=\"bc33f3a8-5a8c-4437-a895-cdb7b3dd9c89\")>]"
      ]
     },
     "execution_count": 53,
     "metadata": {},
     "output_type": "execute_result"
    }
   ],
   "source": [
    "Experience = driver.find_elements_by_xpath('//li[@class = \"fleft grey-text br2 placeHolderLi experience\"]')\n",
    "len(Experience)\n",
    "Experience[0:10]"
   ]
  },
  {
   "cell_type": "code",
   "execution_count": 54,
   "id": "a2e63c53",
   "metadata": {},
   "outputs": [
    {
     "data": {
      "text/plain": [
       "['5-10 Yrs',\n",
       " '5-7 Yrs',\n",
       " '8-10 Yrs',\n",
       " '3-7 Yrs',\n",
       " '0-6 Yrs',\n",
       " '5-8 Yrs',\n",
       " '8-12 Yrs',\n",
       " '4-9 Yrs',\n",
       " '4-9 Yrs',\n",
       " '4-9 Yrs']"
      ]
     },
     "execution_count": 54,
     "metadata": {},
     "output_type": "execute_result"
    }
   ],
   "source": [
    "job_experience = []\n",
    "\n",
    "for i in Experience:\n",
    "    job_experience.append(i.text)\n",
    "h = job_experience[0:10]    \n",
    "h"
   ]
  },
  {
   "cell_type": "code",
   "execution_count": 55,
   "id": "7fa45934",
   "metadata": {},
   "outputs": [
    {
     "data": {
      "text/html": [
       "<div>\n",
       "<style scoped>\n",
       "    .dataframe tbody tr th:only-of-type {\n",
       "        vertical-align: middle;\n",
       "    }\n",
       "\n",
       "    .dataframe tbody tr th {\n",
       "        vertical-align: top;\n",
       "    }\n",
       "\n",
       "    .dataframe thead th {\n",
       "        text-align: right;\n",
       "    }\n",
       "</style>\n",
       "<table border=\"1\" class=\"dataframe\">\n",
       "  <thead>\n",
       "    <tr style=\"text-align: right;\">\n",
       "      <th></th>\n",
       "      <th>Job Title</th>\n",
       "      <th>Job Location</th>\n",
       "      <th>Company Name</th>\n",
       "      <th>Job experience</th>\n",
       "    </tr>\n",
       "  </thead>\n",
       "  <tbody>\n",
       "    <tr>\n",
       "      <th>0</th>\n",
       "      <td>Data Scientist: Advanced Analytics</td>\n",
       "      <td>Bangalore/Bengaluru</td>\n",
       "      <td>IBM</td>\n",
       "      <td>5-10 Yrs</td>\n",
       "    </tr>\n",
       "    <tr>\n",
       "      <th>1</th>\n",
       "      <td>Data Scientist: Advanced Analytics</td>\n",
       "      <td>Bengaluru/Bangalore</td>\n",
       "      <td>IBM</td>\n",
       "      <td>5-7 Yrs</td>\n",
       "    </tr>\n",
       "    <tr>\n",
       "      <th>2</th>\n",
       "      <td>Sr . Data Scientist</td>\n",
       "      <td>Bangalore/Bengaluru</td>\n",
       "      <td>Harman Connected Services Corporation India Pvt.</td>\n",
       "      <td>8-10 Yrs</td>\n",
       "    </tr>\n",
       "    <tr>\n",
       "      <th>3</th>\n",
       "      <td>Senior Data Scientist</td>\n",
       "      <td>Bangalore/Bengaluru</td>\n",
       "      <td>Slice</td>\n",
       "      <td>3-7 Yrs</td>\n",
       "    </tr>\n",
       "    <tr>\n",
       "      <th>4</th>\n",
       "      <td>Sr Data Scientist</td>\n",
       "      <td>Bangalore/Bengaluru</td>\n",
       "      <td>Siemens</td>\n",
       "      <td>0-6 Yrs</td>\n",
       "    </tr>\n",
       "    <tr>\n",
       "      <th>5</th>\n",
       "      <td>Senior Data Scientist</td>\n",
       "      <td>Bangalore/Bengaluru</td>\n",
       "      <td>Dell</td>\n",
       "      <td>5-8 Yrs</td>\n",
       "    </tr>\n",
       "    <tr>\n",
       "      <th>6</th>\n",
       "      <td>Senior Data Scientist</td>\n",
       "      <td>Bangalore/Bengaluru</td>\n",
       "      <td>Dell</td>\n",
       "      <td>8-12 Yrs</td>\n",
       "    </tr>\n",
       "    <tr>\n",
       "      <th>7</th>\n",
       "      <td>Senior Data Scientist - Python/Machine Learnin...</td>\n",
       "      <td>Mumbai, Hyderabad/Secunderabad, Pune, Bangalor...</td>\n",
       "      <td>Altimax Business Solutions</td>\n",
       "      <td>4-9 Yrs</td>\n",
       "    </tr>\n",
       "    <tr>\n",
       "      <th>8</th>\n",
       "      <td>Senior/Lead Data Scientist - (Revenue Management)</td>\n",
       "      <td>Bangalore/Bengaluru</td>\n",
       "      <td>o9 Solutions Management India Private Limited</td>\n",
       "      <td>4-9 Yrs</td>\n",
       "    </tr>\n",
       "    <tr>\n",
       "      <th>9</th>\n",
       "      <td>Senior/Lead - Data Scientist (Supply Chain)</td>\n",
       "      <td>Bangalore/Bengaluru</td>\n",
       "      <td>o9 Solutions Management India Private Limited</td>\n",
       "      <td>4-9 Yrs</td>\n",
       "    </tr>\n",
       "  </tbody>\n",
       "</table>\n",
       "</div>"
      ],
      "text/plain": [
       "                                           Job Title  \\\n",
       "0                 Data Scientist: Advanced Analytics   \n",
       "1                 Data Scientist: Advanced Analytics   \n",
       "2                                Sr . Data Scientist   \n",
       "3                              Senior Data Scientist   \n",
       "4                                  Sr Data Scientist   \n",
       "5                              Senior Data Scientist   \n",
       "6                              Senior Data Scientist   \n",
       "7  Senior Data Scientist - Python/Machine Learnin...   \n",
       "8  Senior/Lead Data Scientist - (Revenue Management)   \n",
       "9        Senior/Lead - Data Scientist (Supply Chain)   \n",
       "\n",
       "                                        Job Location  \\\n",
       "0                                Bangalore/Bengaluru   \n",
       "1                                Bengaluru/Bangalore   \n",
       "2                                Bangalore/Bengaluru   \n",
       "3                                Bangalore/Bengaluru   \n",
       "4                                Bangalore/Bengaluru   \n",
       "5                                Bangalore/Bengaluru   \n",
       "6                                Bangalore/Bengaluru   \n",
       "7  Mumbai, Hyderabad/Secunderabad, Pune, Bangalor...   \n",
       "8                                Bangalore/Bengaluru   \n",
       "9                                Bangalore/Bengaluru   \n",
       "\n",
       "                                       Company Name Job experience  \n",
       "0                                               IBM       5-10 Yrs  \n",
       "1                                               IBM        5-7 Yrs  \n",
       "2  Harman Connected Services Corporation India Pvt.       8-10 Yrs  \n",
       "3                                             Slice        3-7 Yrs  \n",
       "4                                           Siemens        0-6 Yrs  \n",
       "5                                              Dell        5-8 Yrs  \n",
       "6                                              Dell       8-12 Yrs  \n",
       "7                        Altimax Business Solutions        4-9 Yrs  \n",
       "8     o9 Solutions Management India Private Limited        4-9 Yrs  \n",
       "9     o9 Solutions Management India Private Limited        4-9 Yrs  "
      ]
     },
     "execution_count": 55,
     "metadata": {},
     "output_type": "execute_result"
    }
   ],
   "source": [
    "df = pd.DataFrame()\n",
    "df['Job Title'] = e\n",
    "df['Job Location'] = f\n",
    "df['Company Name'] = g\n",
    "df['Job experience'] = h\n",
    "df"
   ]
  },
  {
   "cell_type": "markdown",
   "id": "ddbed6e4",
   "metadata": {},
   "source": [
    "# # Question - 3:"
   ]
  },
  {
   "cell_type": "code",
   "execution_count": 56,
   "id": "0c9bfdbd",
   "metadata": {},
   "outputs": [],
   "source": [
    "url = 'https://www.naukri.com/'\n",
    "driver.get(url)"
   ]
  },
  {
   "cell_type": "code",
   "execution_count": 57,
   "id": "6cb7834d",
   "metadata": {},
   "outputs": [
    {
     "data": {
      "text/plain": [
       "<selenium.webdriver.remote.webelement.WebElement (session=\"af2b53d389c42fb843dad40ae9d27a00\", element=\"98596d9b-425d-4887-9964-8e59b35d8e6e\")>"
      ]
     },
     "execution_count": 57,
     "metadata": {},
     "output_type": "execute_result"
    }
   ],
   "source": [
    "search_job = driver.find_element_by_class_name(\"suggestor-input\")\n",
    "search_job"
   ]
  },
  {
   "cell_type": "code",
   "execution_count": 58,
   "id": "818fee7a",
   "metadata": {},
   "outputs": [],
   "source": [
    "search_job.send_keys(\"Data Scientist\")"
   ]
  },
  {
   "cell_type": "code",
   "execution_count": 59,
   "id": "0bfa99d1",
   "metadata": {},
   "outputs": [],
   "source": [
    "search_btn = driver.find_element_by_class_name('qsbSubmit')\n",
    "search_btn.click()"
   ]
  },
  {
   "cell_type": "code",
   "execution_count": 61,
   "id": "30ecdf89",
   "metadata": {},
   "outputs": [],
   "source": [
    "location_check = driver.find_element_by_xpath('/html/body/div[1]/div[3]/div[2]/section[1]/div[2]/div[3]/div[2]/div[3]/label/i')\n",
    "location_check.click()"
   ]
  },
  {
   "cell_type": "code",
   "execution_count": 62,
   "id": "3a774e46",
   "metadata": {},
   "outputs": [],
   "source": [
    "salary_check = driver.find_element_by_xpath('/html/body/div[1]/div[3]/div[2]/section[1]/div[2]/div[4]/div[2]/div[2]/label/i')\n",
    "salary_check.click()"
   ]
  },
  {
   "cell_type": "code",
   "execution_count": 63,
   "id": "0a61b43f",
   "metadata": {},
   "outputs": [
    {
     "data": {
      "text/plain": [
       "[<selenium.webdriver.remote.webelement.WebElement (session=\"af2b53d389c42fb843dad40ae9d27a00\", element=\"cad5936d-46fc-485f-aad2-1558024cc2d3\")>,\n",
       " <selenium.webdriver.remote.webelement.WebElement (session=\"af2b53d389c42fb843dad40ae9d27a00\", element=\"8b790045-0126-4241-93dc-d04707c13df6\")>,\n",
       " <selenium.webdriver.remote.webelement.WebElement (session=\"af2b53d389c42fb843dad40ae9d27a00\", element=\"4440bf4e-ba8c-4828-97b4-c8f105a81c75\")>,\n",
       " <selenium.webdriver.remote.webelement.WebElement (session=\"af2b53d389c42fb843dad40ae9d27a00\", element=\"b3ad3477-9fc6-4cea-89c7-a7df7c2d0382\")>,\n",
       " <selenium.webdriver.remote.webelement.WebElement (session=\"af2b53d389c42fb843dad40ae9d27a00\", element=\"48c99829-c8ef-4ebd-a55d-67cbbce8ff6e\")>,\n",
       " <selenium.webdriver.remote.webelement.WebElement (session=\"af2b53d389c42fb843dad40ae9d27a00\", element=\"ddad2ec7-1d3d-4309-aa61-e71e2c571648\")>,\n",
       " <selenium.webdriver.remote.webelement.WebElement (session=\"af2b53d389c42fb843dad40ae9d27a00\", element=\"ccd6352e-1726-4078-8b39-bf792113fc00\")>,\n",
       " <selenium.webdriver.remote.webelement.WebElement (session=\"af2b53d389c42fb843dad40ae9d27a00\", element=\"79adf312-f30e-44c9-bf68-54cf3c66aba3\")>,\n",
       " <selenium.webdriver.remote.webelement.WebElement (session=\"af2b53d389c42fb843dad40ae9d27a00\", element=\"3b2c477b-b66a-43b4-b807-c7c76aec527c\")>,\n",
       " <selenium.webdriver.remote.webelement.WebElement (session=\"af2b53d389c42fb843dad40ae9d27a00\", element=\"4d24b48e-9eaf-4025-b42a-036fd05878da\")>]"
      ]
     },
     "execution_count": 63,
     "metadata": {},
     "output_type": "execute_result"
    }
   ],
   "source": [
    "title_tag= driver.find_elements_by_xpath('//a[@class = \"title fw500 ellipsis\"]')\n",
    "title= title_tag[0:10]\n",
    "title"
   ]
  },
  {
   "cell_type": "code",
   "execution_count": 64,
   "id": "03ce2b3c",
   "metadata": {},
   "outputs": [
    {
     "data": {
      "text/plain": [
       "['Data Scientist / Senior DS/ Team Lead',\n",
       " 'Openings For Jr/mid/Sr level data Scientists',\n",
       " 'Job Opportunity || Data Scientist || HCL Technologies',\n",
       " 'Hiring For Data Analyst / Data Scientist',\n",
       " 'Senior Data Scientist I',\n",
       " 'Data Scientist',\n",
       " 'Data Scientist | Python | Machine Learning | Deep Learning- Fresher',\n",
       " 'Data Scientist role',\n",
       " 'Data Scientist',\n",
       " 'Data Scientist role']"
      ]
     },
     "execution_count": 64,
     "metadata": {},
     "output_type": "execute_result"
    }
   ],
   "source": [
    "title_tags = []\n",
    "for i in title:\n",
    "    title_tags.append(i.text)\n",
    "len(title_tags)\n",
    "title_tags"
   ]
  },
  {
   "cell_type": "code",
   "execution_count": 65,
   "id": "14b67567",
   "metadata": {},
   "outputs": [
    {
     "data": {
      "text/plain": [
       "[<selenium.webdriver.remote.webelement.WebElement (session=\"af2b53d389c42fb843dad40ae9d27a00\", element=\"76c55efe-4f60-4266-86d2-8b907bbd83e3\")>,\n",
       " <selenium.webdriver.remote.webelement.WebElement (session=\"af2b53d389c42fb843dad40ae9d27a00\", element=\"074030db-4a2b-4c34-a138-8887ae5a9482\")>,\n",
       " <selenium.webdriver.remote.webelement.WebElement (session=\"af2b53d389c42fb843dad40ae9d27a00\", element=\"03ccee99-22d0-4cc4-a374-f15c5d8590d5\")>,\n",
       " <selenium.webdriver.remote.webelement.WebElement (session=\"af2b53d389c42fb843dad40ae9d27a00\", element=\"b2768300-1248-4074-8f0b-947b9315c50c\")>,\n",
       " <selenium.webdriver.remote.webelement.WebElement (session=\"af2b53d389c42fb843dad40ae9d27a00\", element=\"52ccb93e-2e9b-4331-9619-d509085e0a3f\")>,\n",
       " <selenium.webdriver.remote.webelement.WebElement (session=\"af2b53d389c42fb843dad40ae9d27a00\", element=\"b939151a-3907-4f39-a761-7e0a780ee9ce\")>,\n",
       " <selenium.webdriver.remote.webelement.WebElement (session=\"af2b53d389c42fb843dad40ae9d27a00\", element=\"f1f0155d-d646-461b-977f-0e9b473d61e8\")>,\n",
       " <selenium.webdriver.remote.webelement.WebElement (session=\"af2b53d389c42fb843dad40ae9d27a00\", element=\"92acd41f-cc42-4003-b0b9-f78691a296f1\")>,\n",
       " <selenium.webdriver.remote.webelement.WebElement (session=\"af2b53d389c42fb843dad40ae9d27a00\", element=\"eae286f6-16bf-4f6b-98eb-542ad28384e4\")>,\n",
       " <selenium.webdriver.remote.webelement.WebElement (session=\"af2b53d389c42fb843dad40ae9d27a00\", element=\"558331b0-261a-4993-845d-7be4b07529b6\")>]"
      ]
     },
     "execution_count": 65,
     "metadata": {},
     "output_type": "execute_result"
    }
   ],
   "source": [
    "loc = driver.find_elements_by_xpath('//li[@class = \"fleft grey-text br2 placeHolderLi location\"]')\n",
    "location = loc[0:10]\n",
    "location"
   ]
  },
  {
   "cell_type": "code",
   "execution_count": 66,
   "id": "63b6d37d",
   "metadata": {},
   "outputs": [
    {
     "data": {
      "text/plain": [
       "['Mumbai, Gurgaon/Gurugram(Cyber City +1)',\n",
       " 'Kolkata, Hyderabad/Secunderabad, Pune, Ahmedabad, Chennai, Bangalore/Bengaluru, Delhi / NCR, Mumbai (All Areas)\\n(WFH during Covid)',\n",
       " 'Delhi / NCR',\n",
       " 'Noida(Sector-59 Noida)',\n",
       " 'Gurgaon/Gurugram',\n",
       " 'Gurgaon/Gurugram(Uday Nagar)',\n",
       " 'Noida, Gurgaon/Gurugram, Delhi / NCR',\n",
       " 'Noida, Hyderabad/Secunderabad, Pune, Gurgaon/Gurugram, Bangalore/Bengaluru, Delhi / NCR\\n(WFH during Covid)',\n",
       " 'Gurgaon/Gurugram',\n",
       " 'Noida, Hyderabad/Secunderabad, Pune, Gurgaon/Gurugram, Bangalore/Bengaluru, Delhi / NCR\\n(WFH during Covid)']"
      ]
     },
     "execution_count": 66,
     "metadata": {},
     "output_type": "execute_result"
    }
   ],
   "source": [
    "locationn = []\n",
    "for i in location:\n",
    "    locationn.append(i.text)\n",
    "locationn"
   ]
  },
  {
   "cell_type": "code",
   "execution_count": 67,
   "id": "8272791a",
   "metadata": {},
   "outputs": [
    {
     "data": {
      "text/plain": [
       "[<selenium.webdriver.remote.webelement.WebElement (session=\"af2b53d389c42fb843dad40ae9d27a00\", element=\"65395d2f-226c-45bc-871e-bfb9da08b1d4\")>,\n",
       " <selenium.webdriver.remote.webelement.WebElement (session=\"af2b53d389c42fb843dad40ae9d27a00\", element=\"05ffcaed-b12a-4409-88fd-090a99bf9b20\")>,\n",
       " <selenium.webdriver.remote.webelement.WebElement (session=\"af2b53d389c42fb843dad40ae9d27a00\", element=\"dd1208e6-cfee-4a6e-b0d5-ca0f07b31e90\")>,\n",
       " <selenium.webdriver.remote.webelement.WebElement (session=\"af2b53d389c42fb843dad40ae9d27a00\", element=\"ab59a420-9c6c-4c70-9820-437f62dd603b\")>,\n",
       " <selenium.webdriver.remote.webelement.WebElement (session=\"af2b53d389c42fb843dad40ae9d27a00\", element=\"3921d2b5-80c5-4352-bf89-3d69377e08d0\")>,\n",
       " <selenium.webdriver.remote.webelement.WebElement (session=\"af2b53d389c42fb843dad40ae9d27a00\", element=\"358c03d4-5c59-419a-bcd0-f2e9a5070985\")>,\n",
       " <selenium.webdriver.remote.webelement.WebElement (session=\"af2b53d389c42fb843dad40ae9d27a00\", element=\"409af866-1e16-4ae7-b4f9-6c3466d79fe4\")>,\n",
       " <selenium.webdriver.remote.webelement.WebElement (session=\"af2b53d389c42fb843dad40ae9d27a00\", element=\"270b9c81-3d56-400b-a99d-9cf461119ac5\")>,\n",
       " <selenium.webdriver.remote.webelement.WebElement (session=\"af2b53d389c42fb843dad40ae9d27a00\", element=\"ed6e6df5-1a64-4aba-ace9-efb559120afc\")>,\n",
       " <selenium.webdriver.remote.webelement.WebElement (session=\"af2b53d389c42fb843dad40ae9d27a00\", element=\"aff8c31e-8292-4e2c-97ec-36e6701fc3e9\")>]"
      ]
     },
     "execution_count": 67,
     "metadata": {},
     "output_type": "execute_result"
    }
   ],
   "source": [
    "com = driver.find_elements_by_xpath('//a[@class = \"subTitle ellipsis fleft\"]')\n",
    "comp = com[0:10]\n",
    "comp"
   ]
  },
  {
   "cell_type": "code",
   "execution_count": 68,
   "id": "7feee3de",
   "metadata": {},
   "outputs": [
    {
     "data": {
      "text/plain": [
       "['NebulARC Technologies Private Limited',\n",
       " 'Pluto seven business solutions (p) limited',\n",
       " 'HCL',\n",
       " 'Careerera',\n",
       " 'Delhivery',\n",
       " 'Core Diagnostics Private Limited',\n",
       " 'Schlesinger Group',\n",
       " 'Mount Talent Consulting Private Limited',\n",
       " 'T & A Solutions',\n",
       " 'Mount Talent Consulting Private Limited']"
      ]
     },
     "execution_count": 68,
     "metadata": {},
     "output_type": "execute_result"
    }
   ],
   "source": [
    "company = []\n",
    "for i in comp:\n",
    "    company.append(i.text)\n",
    "company"
   ]
  },
  {
   "cell_type": "code",
   "execution_count": 69,
   "id": "e96f387b",
   "metadata": {},
   "outputs": [
    {
     "data": {
      "text/plain": [
       "[<selenium.webdriver.remote.webelement.WebElement (session=\"af2b53d389c42fb843dad40ae9d27a00\", element=\"78e4dfeb-be11-4fdf-9947-3e1137ef58c7\")>,\n",
       " <selenium.webdriver.remote.webelement.WebElement (session=\"af2b53d389c42fb843dad40ae9d27a00\", element=\"96c92281-cd88-4f55-87f2-8e2082285dbb\")>,\n",
       " <selenium.webdriver.remote.webelement.WebElement (session=\"af2b53d389c42fb843dad40ae9d27a00\", element=\"e8095bda-cb8f-442c-8cd9-af08400b0a46\")>,\n",
       " <selenium.webdriver.remote.webelement.WebElement (session=\"af2b53d389c42fb843dad40ae9d27a00\", element=\"e412e138-c438-48f4-bbb4-d7328a0032ec\")>,\n",
       " <selenium.webdriver.remote.webelement.WebElement (session=\"af2b53d389c42fb843dad40ae9d27a00\", element=\"9b7c0d3b-e8dd-45ee-8394-77ce88934506\")>,\n",
       " <selenium.webdriver.remote.webelement.WebElement (session=\"af2b53d389c42fb843dad40ae9d27a00\", element=\"b429dd12-fe51-43ae-8a45-1603b6ff43b3\")>,\n",
       " <selenium.webdriver.remote.webelement.WebElement (session=\"af2b53d389c42fb843dad40ae9d27a00\", element=\"42380536-8abf-4d9d-81db-d5b522496b99\")>,\n",
       " <selenium.webdriver.remote.webelement.WebElement (session=\"af2b53d389c42fb843dad40ae9d27a00\", element=\"ab8011a6-fde8-43c7-b253-e95e202a556a\")>,\n",
       " <selenium.webdriver.remote.webelement.WebElement (session=\"af2b53d389c42fb843dad40ae9d27a00\", element=\"234d3440-b698-414d-a0dc-22a77d3afc93\")>,\n",
       " <selenium.webdriver.remote.webelement.WebElement (session=\"af2b53d389c42fb843dad40ae9d27a00\", element=\"7825a99e-7dad-4604-bdc2-2319ddec8e20\")>]"
      ]
     },
     "execution_count": 69,
     "metadata": {},
     "output_type": "execute_result"
    }
   ],
   "source": [
    "exp = driver.find_elements_by_xpath('//li[@class = \"fleft grey-text br2 placeHolderLi experience\"]')\n",
    "expe = exp[0:10]\n",
    "expe"
   ]
  },
  {
   "cell_type": "code",
   "execution_count": 70,
   "id": "fdd9faae",
   "metadata": {},
   "outputs": [
    {
     "data": {
      "text/plain": [
       "['0-4 Yrs',\n",
       " '2-6 Yrs',\n",
       " '2-6 Yrs',\n",
       " '2-5 Yrs',\n",
       " '3-7 Yrs',\n",
       " '2-7 Yrs',\n",
       " '0-3 Yrs',\n",
       " '1-4 Yrs',\n",
       " '2-6 Yrs',\n",
       " '1-3 Yrs']"
      ]
     },
     "execution_count": 70,
     "metadata": {},
     "output_type": "execute_result"
    }
   ],
   "source": [
    "experience = []\n",
    "for i in expe:\n",
    "    experience.append(i.text)\n",
    "experience"
   ]
  },
  {
   "cell_type": "code",
   "execution_count": 71,
   "id": "63b16c61",
   "metadata": {},
   "outputs": [
    {
     "data": {
      "text/html": [
       "<div>\n",
       "<style scoped>\n",
       "    .dataframe tbody tr th:only-of-type {\n",
       "        vertical-align: middle;\n",
       "    }\n",
       "\n",
       "    .dataframe tbody tr th {\n",
       "        vertical-align: top;\n",
       "    }\n",
       "\n",
       "    .dataframe thead th {\n",
       "        text-align: right;\n",
       "    }\n",
       "</style>\n",
       "<table border=\"1\" class=\"dataframe\">\n",
       "  <thead>\n",
       "    <tr style=\"text-align: right;\">\n",
       "      <th></th>\n",
       "      <th>Job Title</th>\n",
       "      <th>Job Location</th>\n",
       "      <th>Company Name</th>\n",
       "      <th>Experience Required</th>\n",
       "    </tr>\n",
       "  </thead>\n",
       "  <tbody>\n",
       "    <tr>\n",
       "      <th>0</th>\n",
       "      <td>Data Scientist / Senior DS/ Team Lead</td>\n",
       "      <td>Mumbai, Gurgaon/Gurugram(Cyber City +1)</td>\n",
       "      <td>NebulARC Technologies Private Limited</td>\n",
       "      <td>0-4 Yrs</td>\n",
       "    </tr>\n",
       "    <tr>\n",
       "      <th>1</th>\n",
       "      <td>Openings For Jr/mid/Sr level data Scientists</td>\n",
       "      <td>Kolkata, Hyderabad/Secunderabad, Pune, Ahmedab...</td>\n",
       "      <td>Pluto seven business solutions (p) limited</td>\n",
       "      <td>2-6 Yrs</td>\n",
       "    </tr>\n",
       "    <tr>\n",
       "      <th>2</th>\n",
       "      <td>Job Opportunity || Data Scientist || HCL Techn...</td>\n",
       "      <td>Delhi / NCR</td>\n",
       "      <td>HCL</td>\n",
       "      <td>2-6 Yrs</td>\n",
       "    </tr>\n",
       "    <tr>\n",
       "      <th>3</th>\n",
       "      <td>Hiring For Data Analyst / Data Scientist</td>\n",
       "      <td>Noida(Sector-59 Noida)</td>\n",
       "      <td>Careerera</td>\n",
       "      <td>2-5 Yrs</td>\n",
       "    </tr>\n",
       "    <tr>\n",
       "      <th>4</th>\n",
       "      <td>Senior Data Scientist I</td>\n",
       "      <td>Gurgaon/Gurugram</td>\n",
       "      <td>Delhivery</td>\n",
       "      <td>3-7 Yrs</td>\n",
       "    </tr>\n",
       "    <tr>\n",
       "      <th>5</th>\n",
       "      <td>Data Scientist</td>\n",
       "      <td>Gurgaon/Gurugram(Uday Nagar)</td>\n",
       "      <td>Core Diagnostics Private Limited</td>\n",
       "      <td>2-7 Yrs</td>\n",
       "    </tr>\n",
       "    <tr>\n",
       "      <th>6</th>\n",
       "      <td>Data Scientist | Python | Machine Learning | D...</td>\n",
       "      <td>Noida, Gurgaon/Gurugram, Delhi / NCR</td>\n",
       "      <td>Schlesinger Group</td>\n",
       "      <td>0-3 Yrs</td>\n",
       "    </tr>\n",
       "    <tr>\n",
       "      <th>7</th>\n",
       "      <td>Data Scientist role</td>\n",
       "      <td>Noida, Hyderabad/Secunderabad, Pune, Gurgaon/G...</td>\n",
       "      <td>Mount Talent Consulting Private Limited</td>\n",
       "      <td>1-4 Yrs</td>\n",
       "    </tr>\n",
       "    <tr>\n",
       "      <th>8</th>\n",
       "      <td>Data Scientist</td>\n",
       "      <td>Gurgaon/Gurugram</td>\n",
       "      <td>T &amp; A Solutions</td>\n",
       "      <td>2-6 Yrs</td>\n",
       "    </tr>\n",
       "    <tr>\n",
       "      <th>9</th>\n",
       "      <td>Data Scientist role</td>\n",
       "      <td>Noida, Hyderabad/Secunderabad, Pune, Gurgaon/G...</td>\n",
       "      <td>Mount Talent Consulting Private Limited</td>\n",
       "      <td>1-3 Yrs</td>\n",
       "    </tr>\n",
       "  </tbody>\n",
       "</table>\n",
       "</div>"
      ],
      "text/plain": [
       "                                           Job Title  \\\n",
       "0              Data Scientist / Senior DS/ Team Lead   \n",
       "1       Openings For Jr/mid/Sr level data Scientists   \n",
       "2  Job Opportunity || Data Scientist || HCL Techn...   \n",
       "3           Hiring For Data Analyst / Data Scientist   \n",
       "4                            Senior Data Scientist I   \n",
       "5                                     Data Scientist   \n",
       "6  Data Scientist | Python | Machine Learning | D...   \n",
       "7                                Data Scientist role   \n",
       "8                                     Data Scientist   \n",
       "9                                Data Scientist role   \n",
       "\n",
       "                                        Job Location  \\\n",
       "0            Mumbai, Gurgaon/Gurugram(Cyber City +1)   \n",
       "1  Kolkata, Hyderabad/Secunderabad, Pune, Ahmedab...   \n",
       "2                                        Delhi / NCR   \n",
       "3                             Noida(Sector-59 Noida)   \n",
       "4                                   Gurgaon/Gurugram   \n",
       "5                       Gurgaon/Gurugram(Uday Nagar)   \n",
       "6               Noida, Gurgaon/Gurugram, Delhi / NCR   \n",
       "7  Noida, Hyderabad/Secunderabad, Pune, Gurgaon/G...   \n",
       "8                                   Gurgaon/Gurugram   \n",
       "9  Noida, Hyderabad/Secunderabad, Pune, Gurgaon/G...   \n",
       "\n",
       "                                 Company Name Experience Required  \n",
       "0       NebulARC Technologies Private Limited             0-4 Yrs  \n",
       "1  Pluto seven business solutions (p) limited             2-6 Yrs  \n",
       "2                                         HCL             2-6 Yrs  \n",
       "3                                   Careerera             2-5 Yrs  \n",
       "4                                   Delhivery             3-7 Yrs  \n",
       "5            Core Diagnostics Private Limited             2-7 Yrs  \n",
       "6                           Schlesinger Group             0-3 Yrs  \n",
       "7     Mount Talent Consulting Private Limited             1-4 Yrs  \n",
       "8                             T & A Solutions             2-6 Yrs  \n",
       "9     Mount Talent Consulting Private Limited             1-3 Yrs  "
      ]
     },
     "execution_count": 71,
     "metadata": {},
     "output_type": "execute_result"
    }
   ],
   "source": [
    "df = pd.DataFrame()\n",
    "df['Job Title'] = title_tags\n",
    "df['Job Location'] = locationn\n",
    "df['Company Name'] = company\n",
    "df['Experience Required'] = experience\n",
    "df"
   ]
  },
  {
   "cell_type": "markdown",
   "id": "3e56b6a0",
   "metadata": {},
   "source": [
    "# Question : 4"
   ]
  },
  {
   "cell_type": "code",
   "execution_count": 72,
   "id": "e0f772b8",
   "metadata": {},
   "outputs": [],
   "source": [
    "url = 'https://www.flipkart.com/'\n",
    "driver.get(url)"
   ]
  },
  {
   "cell_type": "code",
   "execution_count": 73,
   "id": "ccc4a8c9",
   "metadata": {},
   "outputs": [],
   "source": [
    "search = driver.find_element_by_class_name(\"_3704LK\")\n",
    "search.send_keys(\"Sun Glasses\")"
   ]
  },
  {
   "cell_type": "code",
   "execution_count": 74,
   "id": "ff20b337",
   "metadata": {},
   "outputs": [],
   "source": [
    "Search_btn = driver.find_element_by_class_name('L0Z3Pu')\n",
    "Search_btn.click()"
   ]
  },
  {
   "cell_type": "code",
   "execution_count": 75,
   "id": "b917667b",
   "metadata": {},
   "outputs": [
    {
     "name": "stdout",
     "output_type": "stream",
     "text": [
      "160\n",
      "160\n",
      "160\n",
      "159\n"
     ]
    }
   ],
   "source": [
    "start=0\n",
    "stop= 4\n",
    "\n",
    "brand = []\n",
    "price = []\n",
    "description = []\n",
    "off = []\n",
    "\n",
    "for page in range(start,stop):\n",
    "    brands=driver.find_elements_by_class_name('_2WkVRV')\n",
    "    prices=driver.find_elements_by_xpath(\"//div[@class='_30jeq3']\")\n",
    "    descp=driver.find_elements_by_class_name('IRpwTa')\n",
    "    dis=driver.find_elements_by_xpath(\"//div[@class='_3Ay6Sb']\")\n",
    "    \n",
    "    for i in brands:\n",
    "        brand.append(i.text)\n",
    "    for j in prices:\n",
    "        price.append(j.text)\n",
    "    for k in descp:\n",
    "        description.append(k.text)\n",
    "    for l in dis:\n",
    "        off.append(l.text)\n",
    "        \n",
    "    nxt_button=driver.find_elements_by_xpath(\"//a[@class='_1LKTO3']\")\n",
    "    try:\n",
    "        driver.get(nxt_button[1].get_attribute('href'))\n",
    "    except:\n",
    "        driver.get(nxt_button[0].get_attribute('href'))\n",
    "        \n",
    "print(len(brand))\n",
    "print(len(price))\n",
    "print(len(description))\n",
    "print(len(off))"
   ]
  },
  {
   "cell_type": "code",
   "execution_count": 76,
   "id": "218e6bf9",
   "metadata": {},
   "outputs": [],
   "source": [
    "a=brand[0:100]\n",
    "b=price[0:100]\n",
    "c=description[0:100]\n",
    "d=off[0:100]"
   ]
  },
  {
   "cell_type": "code",
   "execution_count": 77,
   "id": "9f056748",
   "metadata": {},
   "outputs": [
    {
     "data": {
      "text/html": [
       "<div>\n",
       "<style scoped>\n",
       "    .dataframe tbody tr th:only-of-type {\n",
       "        vertical-align: middle;\n",
       "    }\n",
       "\n",
       "    .dataframe tbody tr th {\n",
       "        vertical-align: top;\n",
       "    }\n",
       "\n",
       "    .dataframe thead th {\n",
       "        text-align: right;\n",
       "    }\n",
       "</style>\n",
       "<table border=\"1\" class=\"dataframe\">\n",
       "  <thead>\n",
       "    <tr style=\"text-align: right;\">\n",
       "      <th></th>\n",
       "      <th>Brand</th>\n",
       "      <th>Product Description</th>\n",
       "      <th>Price</th>\n",
       "      <th>Discount</th>\n",
       "    </tr>\n",
       "  </thead>\n",
       "  <tbody>\n",
       "    <tr>\n",
       "      <th>0</th>\n",
       "      <td>DEIXELS</td>\n",
       "      <td>₹319</td>\n",
       "      <td>UV Protection Rectangular Sunglasses (Free Size)</td>\n",
       "      <td>78% off</td>\n",
       "    </tr>\n",
       "    <tr>\n",
       "      <th>1</th>\n",
       "      <td>ROZZETTA CRAFT</td>\n",
       "      <td>₹426</td>\n",
       "      <td>UV Protection, Riding Glasses Rectangular Sung...</td>\n",
       "      <td>80% off</td>\n",
       "    </tr>\n",
       "    <tr>\n",
       "      <th>2</th>\n",
       "      <td>PIRASO</td>\n",
       "      <td>₹200</td>\n",
       "      <td>UV Protection Aviator Sunglasses (54)</td>\n",
       "      <td>87% off</td>\n",
       "    </tr>\n",
       "    <tr>\n",
       "      <th>3</th>\n",
       "      <td>Elligator</td>\n",
       "      <td>₹248</td>\n",
       "      <td>UV Protection Round Sunglasses (54)</td>\n",
       "      <td>90% off</td>\n",
       "    </tr>\n",
       "    <tr>\n",
       "      <th>4</th>\n",
       "      <td>Fastrack</td>\n",
       "      <td>₹759</td>\n",
       "      <td>UV Protection Wayfarer Sunglasses (Free Size)</td>\n",
       "      <td>15% off</td>\n",
       "    </tr>\n",
       "    <tr>\n",
       "      <th>...</th>\n",
       "      <td>...</td>\n",
       "      <td>...</td>\n",
       "      <td>...</td>\n",
       "      <td>...</td>\n",
       "    </tr>\n",
       "    <tr>\n",
       "      <th>95</th>\n",
       "      <td>DEIXELS</td>\n",
       "      <td>₹319</td>\n",
       "      <td>UV Protection Rectangular Sunglasses (Free Size)</td>\n",
       "      <td>78% off</td>\n",
       "    </tr>\n",
       "    <tr>\n",
       "      <th>96</th>\n",
       "      <td>ROZZETTA CRAFT</td>\n",
       "      <td>₹426</td>\n",
       "      <td>UV Protection, Riding Glasses Rectangular Sung...</td>\n",
       "      <td>80% off</td>\n",
       "    </tr>\n",
       "    <tr>\n",
       "      <th>97</th>\n",
       "      <td>kingsunglasses</td>\n",
       "      <td>₹256</td>\n",
       "      <td>Mirrored, UV Protection Wayfarer Sunglasses (F...</td>\n",
       "      <td>82% off</td>\n",
       "    </tr>\n",
       "    <tr>\n",
       "      <th>98</th>\n",
       "      <td>New Specs</td>\n",
       "      <td>₹168</td>\n",
       "      <td>UV Protection Rectangular Sunglasses (Free Size)</td>\n",
       "      <td>88% off</td>\n",
       "    </tr>\n",
       "    <tr>\n",
       "      <th>99</th>\n",
       "      <td>AISLIN</td>\n",
       "      <td>₹498</td>\n",
       "      <td>UV Protection, Gradient Round Sunglasses (58)</td>\n",
       "      <td>67% off</td>\n",
       "    </tr>\n",
       "  </tbody>\n",
       "</table>\n",
       "<p>100 rows × 4 columns</p>\n",
       "</div>"
      ],
      "text/plain": [
       "             Brand Product Description  \\\n",
       "0          DEIXELS                ₹319   \n",
       "1   ROZZETTA CRAFT                ₹426   \n",
       "2           PIRASO                ₹200   \n",
       "3        Elligator                ₹248   \n",
       "4         Fastrack                ₹759   \n",
       "..             ...                 ...   \n",
       "95         DEIXELS                ₹319   \n",
       "96  ROZZETTA CRAFT                ₹426   \n",
       "97  kingsunglasses                ₹256   \n",
       "98       New Specs                ₹168   \n",
       "99          AISLIN                ₹498   \n",
       "\n",
       "                                                Price Discount  \n",
       "0    UV Protection Rectangular Sunglasses (Free Size)  78% off  \n",
       "1   UV Protection, Riding Glasses Rectangular Sung...  80% off  \n",
       "2               UV Protection Aviator Sunglasses (54)  87% off  \n",
       "3                 UV Protection Round Sunglasses (54)  90% off  \n",
       "4       UV Protection Wayfarer Sunglasses (Free Size)  15% off  \n",
       "..                                                ...      ...  \n",
       "95   UV Protection Rectangular Sunglasses (Free Size)  78% off  \n",
       "96  UV Protection, Riding Glasses Rectangular Sung...  80% off  \n",
       "97  Mirrored, UV Protection Wayfarer Sunglasses (F...  82% off  \n",
       "98   UV Protection Rectangular Sunglasses (Free Size)  88% off  \n",
       "99      UV Protection, Gradient Round Sunglasses (58)  67% off  \n",
       "\n",
       "[100 rows x 4 columns]"
      ]
     },
     "execution_count": 77,
     "metadata": {},
     "output_type": "execute_result"
    }
   ],
   "source": [
    "df=pd.DataFrame() \n",
    "df['Brand']=a\n",
    "df['Product Description'] = b\n",
    "df['Price']=c\n",
    "df['Discount']=d\n",
    "df"
   ]
  },
  {
   "cell_type": "markdown",
   "id": "a7532346",
   "metadata": {},
   "source": [
    "# Question : 5"
   ]
  },
  {
   "cell_type": "code",
   "execution_count": 78,
   "id": "01a7953d",
   "metadata": {},
   "outputs": [],
   "source": [
    "url = 'https://www.flipkart.com/apple-iphone-11-black-64-gb-includes- earpods-power\u0002adapter/p/itm0f37c2240b217?pid=MOBFKCTSVZAXUHGR&lid=LSTMOBFKCTSVZAXUHGREPBFGI&marketplace'\n",
    "driver.get(url)"
   ]
  },
  {
   "cell_type": "code",
   "execution_count": 80,
   "id": "85772a01",
   "metadata": {},
   "outputs": [],
   "source": [
    "next = driver.find_element_by_xpath('/html/body/div[1]/div/div[3]/div[1]/div[2]/div[8]/div/div/div[5]/div/a/div/span')\n",
    "next.click()"
   ]
  },
  {
   "cell_type": "code",
   "execution_count": 83,
   "id": "0f836e86",
   "metadata": {},
   "outputs": [
    {
     "name": "stdout",
     "output_type": "stream",
     "text": [
      "146\n",
      "150\n",
      "150\n"
     ]
    }
   ],
   "source": [
    "start=0\n",
    "end= 15\n",
    "rating = []\n",
    "review = []\n",
    "full = []\n",
    "for page in range(start,end):\n",
    "    ratings=driver.find_elements_by_xpath(\"//div[@class='_3LWZlK _1BLPMq']\")\n",
    "    reviews=driver.find_elements_by_xpath(\"//p[@class='_2-N8zT']\")\n",
    "    description=driver.find_elements_by_xpath(\"//div[@class='t-ZTKy']\")\n",
    "    for i in ratings:\n",
    "        rating.append(i.text)\n",
    "    for j in reviews:\n",
    "        review.append(j.text)\n",
    "    for k in description:\n",
    "        full.append(k.text)\n",
    "    nxt_button=driver.find_elements_by_xpath(\"//a[@class='_1LKTO3']\")\n",
    "    try:\n",
    "        driver.get(nxt_button[1].get_attribute('href'))\n",
    "    except:\n",
    "        driver.get(nxt_button[0].get_attribute('href'))\n",
    "        \n",
    "print(len(rating))\n",
    "print(len(review))\n",
    "print(len(full))"
   ]
  },
  {
   "cell_type": "code",
   "execution_count": 84,
   "id": "4a66753c",
   "metadata": {},
   "outputs": [],
   "source": [
    "k = rating[0:100]\n",
    "l = review[0:100]\n",
    "m = full[0:100]"
   ]
  },
  {
   "cell_type": "code",
   "execution_count": 85,
   "id": "5676f9b0",
   "metadata": {},
   "outputs": [
    {
     "data": {
      "text/html": [
       "<div>\n",
       "<style scoped>\n",
       "    .dataframe tbody tr th:only-of-type {\n",
       "        vertical-align: middle;\n",
       "    }\n",
       "\n",
       "    .dataframe tbody tr th {\n",
       "        vertical-align: top;\n",
       "    }\n",
       "\n",
       "    .dataframe thead th {\n",
       "        text-align: right;\n",
       "    }\n",
       "</style>\n",
       "<table border=\"1\" class=\"dataframe\">\n",
       "  <thead>\n",
       "    <tr style=\"text-align: right;\">\n",
       "      <th></th>\n",
       "      <th>Ratings</th>\n",
       "      <th>Reviews</th>\n",
       "      <th>Product Description</th>\n",
       "    </tr>\n",
       "  </thead>\n",
       "  <tbody>\n",
       "    <tr>\n",
       "      <th>0</th>\n",
       "      <td>5</td>\n",
       "      <td>Brilliant</td>\n",
       "      <td>The Best Phone for the Money\\n\\nThe iPhone 11 ...</td>\n",
       "    </tr>\n",
       "    <tr>\n",
       "      <th>1</th>\n",
       "      <td>5</td>\n",
       "      <td>Simply awesome</td>\n",
       "      <td>Really satisfied with the Product I received.....</td>\n",
       "    </tr>\n",
       "    <tr>\n",
       "      <th>2</th>\n",
       "      <td>5</td>\n",
       "      <td>Perfect product!</td>\n",
       "      <td>Amazing phone with great cameras and better ba...</td>\n",
       "    </tr>\n",
       "    <tr>\n",
       "      <th>3</th>\n",
       "      <td>5</td>\n",
       "      <td>Best in the market!</td>\n",
       "      <td>Great iPhone very snappy experience as apple k...</td>\n",
       "    </tr>\n",
       "    <tr>\n",
       "      <th>4</th>\n",
       "      <td>5</td>\n",
       "      <td>Worth every penny</td>\n",
       "      <td>Previously I was using one plus 3t it was a gr...</td>\n",
       "    </tr>\n",
       "    <tr>\n",
       "      <th>...</th>\n",
       "      <td>...</td>\n",
       "      <td>...</td>\n",
       "      <td>...</td>\n",
       "    </tr>\n",
       "    <tr>\n",
       "      <th>95</th>\n",
       "      <td>3</td>\n",
       "      <td>Just wow!</td>\n",
       "      <td>The ultimate performance\\nCamera is superb\\nTh...</td>\n",
       "    </tr>\n",
       "    <tr>\n",
       "      <th>96</th>\n",
       "      <td>5</td>\n",
       "      <td>Terrific purchase</td>\n",
       "      <td>I use a Note10+ and have been using both iOS a...</td>\n",
       "    </tr>\n",
       "    <tr>\n",
       "      <th>97</th>\n",
       "      <td>5</td>\n",
       "      <td>Awesome</td>\n",
       "      <td>The phone is completely good\\nAs far as camera...</td>\n",
       "    </tr>\n",
       "    <tr>\n",
       "      <th>98</th>\n",
       "      <td>5</td>\n",
       "      <td>Decent product</td>\n",
       "      <td>Everything u ll like it when u use this iPhone...</td>\n",
       "    </tr>\n",
       "    <tr>\n",
       "      <th>99</th>\n",
       "      <td>5</td>\n",
       "      <td>Wonderful</td>\n",
       "      <td>Nice value for money good and best price I pho...</td>\n",
       "    </tr>\n",
       "  </tbody>\n",
       "</table>\n",
       "<p>100 rows × 3 columns</p>\n",
       "</div>"
      ],
      "text/plain": [
       "   Ratings              Reviews  \\\n",
       "0        5            Brilliant   \n",
       "1        5       Simply awesome   \n",
       "2        5     Perfect product!   \n",
       "3        5  Best in the market!   \n",
       "4        5    Worth every penny   \n",
       "..     ...                  ...   \n",
       "95       3            Just wow!   \n",
       "96       5    Terrific purchase   \n",
       "97       5              Awesome   \n",
       "98       5       Decent product   \n",
       "99       5            Wonderful   \n",
       "\n",
       "                                  Product Description  \n",
       "0   The Best Phone for the Money\\n\\nThe iPhone 11 ...  \n",
       "1   Really satisfied with the Product I received.....  \n",
       "2   Amazing phone with great cameras and better ba...  \n",
       "3   Great iPhone very snappy experience as apple k...  \n",
       "4   Previously I was using one plus 3t it was a gr...  \n",
       "..                                                ...  \n",
       "95  The ultimate performance\\nCamera is superb\\nTh...  \n",
       "96  I use a Note10+ and have been using both iOS a...  \n",
       "97  The phone is completely good\\nAs far as camera...  \n",
       "98  Everything u ll like it when u use this iPhone...  \n",
       "99  Nice value for money good and best price I pho...  \n",
       "\n",
       "[100 rows x 3 columns]"
      ]
     },
     "execution_count": 85,
     "metadata": {},
     "output_type": "execute_result"
    }
   ],
   "source": [
    "df=pd.DataFrame()\n",
    "df['Ratings']=k\n",
    "df['Reviews'] = l\n",
    "df['Product Description']=m\n",
    "df"
   ]
  },
  {
   "cell_type": "markdown",
   "id": "f95c4262",
   "metadata": {},
   "source": [
    "# Question - 6"
   ]
  },
  {
   "cell_type": "code",
   "execution_count": 86,
   "id": "384da4dc",
   "metadata": {},
   "outputs": [],
   "source": [
    "url = 'https://www.flipkart.com/'\n",
    "driver.get(url)"
   ]
  },
  {
   "cell_type": "code",
   "execution_count": 87,
   "id": "c0e4a85d",
   "metadata": {},
   "outputs": [],
   "source": [
    "search = driver.find_element_by_class_name(\"_3704LK\")\n",
    "search.send_keys(\"sneakers\")"
   ]
  },
  {
   "cell_type": "code",
   "execution_count": 88,
   "id": "5a33853f",
   "metadata": {},
   "outputs": [],
   "source": [
    "Search_btn = driver.find_element_by_class_name('L0Z3Pu')\n",
    "Search_btn.click()"
   ]
  },
  {
   "cell_type": "code",
   "execution_count": 89,
   "id": "528d0fea",
   "metadata": {},
   "outputs": [
    {
     "name": "stdout",
     "output_type": "stream",
     "text": [
      "120\n",
      "120\n",
      "120\n"
     ]
    }
   ],
   "source": [
    "start=0\n",
    "end=3\n",
    "brand = []\n",
    "price = []\n",
    "des = []\n",
    "for page in range(start,end):\n",
    "    brands=driver.find_elements_by_class_name('_2WkVRV')\n",
    "    prices=driver.find_elements_by_xpath(\"//div[@class='_30jeq3']\")\n",
    "    descp=driver.find_elements_by_class_name('IRpwTa')\n",
    "\n",
    "    for i in brands:\n",
    "        brand.append(i.text)\n",
    "    for j in prices:\n",
    "        price.append(j.text)\n",
    "    for k in descp:\n",
    "        des.append(k.text)\n",
    "\n",
    "    nxt_button=driver.find_elements_by_xpath(\"//a[@class='_1LKTO3']\")\n",
    "    try:\n",
    "        driver.get(nxt_button[1].get_attribute('href'))\n",
    "    except:\n",
    "        driver.get(nxt_button[0].get_attribute('href'))\n",
    "        \n",
    "print(len(brand))\n",
    "print(len(price))\n",
    "print(len(des))"
   ]
  },
  {
   "cell_type": "code",
   "execution_count": 90,
   "id": "eeb91968",
   "metadata": {},
   "outputs": [],
   "source": [
    "e=brand[0:100]\n",
    "f=price[0:100]\n",
    "g=des[0:100]"
   ]
  },
  {
   "cell_type": "code",
   "execution_count": 91,
   "id": "3263e7df",
   "metadata": {},
   "outputs": [
    {
     "data": {
      "text/html": [
       "<div>\n",
       "<style scoped>\n",
       "    .dataframe tbody tr th:only-of-type {\n",
       "        vertical-align: middle;\n",
       "    }\n",
       "\n",
       "    .dataframe tbody tr th {\n",
       "        vertical-align: top;\n",
       "    }\n",
       "\n",
       "    .dataframe thead th {\n",
       "        text-align: right;\n",
       "    }\n",
       "</style>\n",
       "<table border=\"1\" class=\"dataframe\">\n",
       "  <thead>\n",
       "    <tr style=\"text-align: right;\">\n",
       "      <th></th>\n",
       "      <th>Brand</th>\n",
       "      <th>Product Description</th>\n",
       "      <th>Price</th>\n",
       "    </tr>\n",
       "  </thead>\n",
       "  <tbody>\n",
       "    <tr>\n",
       "      <th>0</th>\n",
       "      <td>Echor</td>\n",
       "      <td>₹569</td>\n",
       "      <td>Echor Men's Sneakers Fashion Lightweight Runni...</td>\n",
       "    </tr>\n",
       "    <tr>\n",
       "      <th>1</th>\n",
       "      <td>India hub</td>\n",
       "      <td>₹429</td>\n",
       "      <td>Luxury Fashionable casual sneaker shoes Sneake...</td>\n",
       "    </tr>\n",
       "    <tr>\n",
       "      <th>2</th>\n",
       "      <td>Magnolia</td>\n",
       "      <td>₹398</td>\n",
       "      <td>Sneakers For Men</td>\n",
       "    </tr>\n",
       "    <tr>\n",
       "      <th>3</th>\n",
       "      <td>URBANBOX</td>\n",
       "      <td>₹220</td>\n",
       "      <td>Sneakers Sneakers For Men</td>\n",
       "    </tr>\n",
       "    <tr>\n",
       "      <th>4</th>\n",
       "      <td>Labbin</td>\n",
       "      <td>₹499</td>\n",
       "      <td>Sneakers For Men</td>\n",
       "    </tr>\n",
       "    <tr>\n",
       "      <th>...</th>\n",
       "      <td>...</td>\n",
       "      <td>...</td>\n",
       "      <td>...</td>\n",
       "    </tr>\n",
       "    <tr>\n",
       "      <th>95</th>\n",
       "      <td>DUNKASTON</td>\n",
       "      <td>₹374</td>\n",
       "      <td>Sneakers For Men</td>\n",
       "    </tr>\n",
       "    <tr>\n",
       "      <th>96</th>\n",
       "      <td>BRUTON</td>\n",
       "      <td>₹471</td>\n",
       "      <td>Modern &amp; Trendy Collection Combo Pack of 02 Sh...</td>\n",
       "    </tr>\n",
       "    <tr>\n",
       "      <th>97</th>\n",
       "      <td>SPADE CLUB</td>\n",
       "      <td>₹665</td>\n",
       "      <td>Sneakers For Men</td>\n",
       "    </tr>\n",
       "    <tr>\n",
       "      <th>98</th>\n",
       "      <td>Bata</td>\n",
       "      <td>₹999</td>\n",
       "      <td>Sneakers For Men</td>\n",
       "    </tr>\n",
       "    <tr>\n",
       "      <th>99</th>\n",
       "      <td>luxury fashion</td>\n",
       "      <td>₹479</td>\n",
       "      <td>Luxury Fashionable casual sneaker shoes Sneake...</td>\n",
       "    </tr>\n",
       "  </tbody>\n",
       "</table>\n",
       "<p>100 rows × 3 columns</p>\n",
       "</div>"
      ],
      "text/plain": [
       "             Brand Product Description  \\\n",
       "0            Echor                ₹569   \n",
       "1        India hub                ₹429   \n",
       "2         Magnolia                ₹398   \n",
       "3         URBANBOX                ₹220   \n",
       "4           Labbin                ₹499   \n",
       "..             ...                 ...   \n",
       "95       DUNKASTON                ₹374   \n",
       "96          BRUTON                ₹471   \n",
       "97      SPADE CLUB                ₹665   \n",
       "98            Bata                ₹999   \n",
       "99  luxury fashion                ₹479   \n",
       "\n",
       "                                                Price  \n",
       "0   Echor Men's Sneakers Fashion Lightweight Runni...  \n",
       "1   Luxury Fashionable casual sneaker shoes Sneake...  \n",
       "2                                    Sneakers For Men  \n",
       "3                           Sneakers Sneakers For Men  \n",
       "4                                    Sneakers For Men  \n",
       "..                                                ...  \n",
       "95                                   Sneakers For Men  \n",
       "96  Modern & Trendy Collection Combo Pack of 02 Sh...  \n",
       "97                                   Sneakers For Men  \n",
       "98                                   Sneakers For Men  \n",
       "99  Luxury Fashionable casual sneaker shoes Sneake...  \n",
       "\n",
       "[100 rows x 3 columns]"
      ]
     },
     "execution_count": 91,
     "metadata": {},
     "output_type": "execute_result"
    }
   ],
   "source": [
    "df=pd.DataFrame()\n",
    "df['Brand']=e\n",
    "df['Product Description'] = f\n",
    "df['Price']=g\n",
    "df"
   ]
  },
  {
   "cell_type": "markdown",
   "id": "2d69e371",
   "metadata": {},
   "source": [
    "# Question - 7:"
   ]
  },
  {
   "cell_type": "code",
   "execution_count": 92,
   "id": "cbda3c1d",
   "metadata": {},
   "outputs": [],
   "source": [
    "url = 'https://www.myntra.com/shoes'\n",
    "driver.get(url)"
   ]
  },
  {
   "cell_type": "code",
   "execution_count": 93,
   "id": "dcc26baf",
   "metadata": {},
   "outputs": [],
   "source": [
    "color = driver.find_element_by_xpath('/html/body/div[2]/div/div[1]/main/div[3]/div[1]/section/div/div[6]/ul/li[1]/label/div')\n",
    "color.click()"
   ]
  },
  {
   "cell_type": "code",
   "execution_count": 94,
   "id": "8bd859dc",
   "metadata": {},
   "outputs": [],
   "source": [
    "price_check = driver.find_element_by_xpath('/html/body/div[2]/div/div[1]/main/div[3]/div[1]/section/div/div[5]/ul/li[2]/label/div')\n",
    "price_check.click()"
   ]
  },
  {
   "cell_type": "code",
   "execution_count": 95,
   "id": "4b9a66b0",
   "metadata": {},
   "outputs": [
    {
     "name": "stdout",
     "output_type": "stream",
     "text": [
      "150\n",
      "150\n",
      "150\n"
     ]
    }
   ],
   "source": [
    "start=0\n",
    "end=3\n",
    "brand = []\n",
    "price = []\n",
    "description = []\n",
    "\n",
    "for page in range(start,end):\n",
    "    brands=driver.find_elements_by_xpath(\"//h3[@class='product-brand']\")\n",
    "    prices=driver.find_elements_by_xpath(\"//div[@class='product-price']\")\n",
    "    descrip=driver.find_elements_by_xpath(\"//h4[@class='product-product']\")\n",
    "    \n",
    "    for i in brands:\n",
    "        brand.append(i.text)\n",
    "    for j in prices:\n",
    "        price.append(j.text)\n",
    "    for k in descrip:\n",
    "        description.append(k.text)\n",
    "        \n",
    "    nxt_button=driver.find_elements_by_xpath(\"//a[@rel='next']\")\n",
    "    try:\n",
    "        driver.get(nxt_button[1].get_attribute('href'))\n",
    "    except:\n",
    "        driver.get(nxt_button[0].get_attribute('href'))\n",
    "        \n",
    "print(len(brand))\n",
    "print(len(price))\n",
    "print(len(description))"
   ]
  },
  {
   "cell_type": "code",
   "execution_count": 96,
   "id": "b7a1efda",
   "metadata": {},
   "outputs": [],
   "source": [
    "h= brand[0:100]\n",
    "i=price[0:100]\n",
    "j=des[0:100]"
   ]
  },
  {
   "cell_type": "code",
   "execution_count": 97,
   "id": "9008350d",
   "metadata": {},
   "outputs": [
    {
     "data": {
      "text/html": [
       "<div>\n",
       "<style scoped>\n",
       "    .dataframe tbody tr th:only-of-type {\n",
       "        vertical-align: middle;\n",
       "    }\n",
       "\n",
       "    .dataframe tbody tr th {\n",
       "        vertical-align: top;\n",
       "    }\n",
       "\n",
       "    .dataframe thead th {\n",
       "        text-align: right;\n",
       "    }\n",
       "</style>\n",
       "<table border=\"1\" class=\"dataframe\">\n",
       "  <thead>\n",
       "    <tr style=\"text-align: right;\">\n",
       "      <th></th>\n",
       "      <th>Brand</th>\n",
       "      <th>Short Shoe Description</th>\n",
       "      <th>Price of the Shoe</th>\n",
       "    </tr>\n",
       "  </thead>\n",
       "  <tbody>\n",
       "    <tr>\n",
       "      <th>0</th>\n",
       "      <td>Puma</td>\n",
       "      <td>Rs. 7799Rs. 12999(40% OFF)</td>\n",
       "      <td>Echor Men's Sneakers Fashion Lightweight Runni...</td>\n",
       "    </tr>\n",
       "    <tr>\n",
       "      <th>1</th>\n",
       "      <td>Saint G</td>\n",
       "      <td>Rs. 9265Rs. 10900(15% OFF)</td>\n",
       "      <td>Luxury Fashionable casual sneaker shoes Sneake...</td>\n",
       "    </tr>\n",
       "    <tr>\n",
       "      <th>2</th>\n",
       "      <td>Delize</td>\n",
       "      <td>Rs. 9999</td>\n",
       "      <td>Sneakers For Men</td>\n",
       "    </tr>\n",
       "    <tr>\n",
       "      <th>3</th>\n",
       "      <td>Delize</td>\n",
       "      <td>Rs. 9999</td>\n",
       "      <td>Sneakers Sneakers For Men</td>\n",
       "    </tr>\n",
       "    <tr>\n",
       "      <th>4</th>\n",
       "      <td>Skechers</td>\n",
       "      <td>Rs. 7499</td>\n",
       "      <td>Sneakers For Men</td>\n",
       "    </tr>\n",
       "    <tr>\n",
       "      <th>...</th>\n",
       "      <td>...</td>\n",
       "      <td>...</td>\n",
       "      <td>...</td>\n",
       "    </tr>\n",
       "    <tr>\n",
       "      <th>95</th>\n",
       "      <td>Hush Puppies</td>\n",
       "      <td>Rs. 8999Rs. 9999(10% OFF)</td>\n",
       "      <td>Sneakers For Men</td>\n",
       "    </tr>\n",
       "    <tr>\n",
       "      <th>96</th>\n",
       "      <td>Saint G</td>\n",
       "      <td>Rs. 7565Rs. 8900(15% OFF)</td>\n",
       "      <td>Modern &amp; Trendy Collection Combo Pack of 02 Sh...</td>\n",
       "    </tr>\n",
       "    <tr>\n",
       "      <th>97</th>\n",
       "      <td>Skechers</td>\n",
       "      <td>Rs. 10999</td>\n",
       "      <td>Sneakers For Men</td>\n",
       "    </tr>\n",
       "    <tr>\n",
       "      <th>98</th>\n",
       "      <td>Heel &amp; Buckle London</td>\n",
       "      <td>Rs. 7693Rs. 10990(30% OFF)</td>\n",
       "      <td>Sneakers For Men</td>\n",
       "    </tr>\n",
       "    <tr>\n",
       "      <th>99</th>\n",
       "      <td>Bugatti</td>\n",
       "      <td>Rs. 8799Rs. 10999(20% OFF)</td>\n",
       "      <td>Luxury Fashionable casual sneaker shoes Sneake...</td>\n",
       "    </tr>\n",
       "  </tbody>\n",
       "</table>\n",
       "<p>100 rows × 3 columns</p>\n",
       "</div>"
      ],
      "text/plain": [
       "                   Brand      Short Shoe Description  \\\n",
       "0                   Puma  Rs. 7799Rs. 12999(40% OFF)   \n",
       "1                Saint G  Rs. 9265Rs. 10900(15% OFF)   \n",
       "2                 Delize                    Rs. 9999   \n",
       "3                 Delize                    Rs. 9999   \n",
       "4               Skechers                    Rs. 7499   \n",
       "..                   ...                         ...   \n",
       "95          Hush Puppies   Rs. 8999Rs. 9999(10% OFF)   \n",
       "96               Saint G   Rs. 7565Rs. 8900(15% OFF)   \n",
       "97              Skechers                   Rs. 10999   \n",
       "98  Heel & Buckle London  Rs. 7693Rs. 10990(30% OFF)   \n",
       "99               Bugatti  Rs. 8799Rs. 10999(20% OFF)   \n",
       "\n",
       "                                    Price of the Shoe  \n",
       "0   Echor Men's Sneakers Fashion Lightweight Runni...  \n",
       "1   Luxury Fashionable casual sneaker shoes Sneake...  \n",
       "2                                    Sneakers For Men  \n",
       "3                           Sneakers Sneakers For Men  \n",
       "4                                    Sneakers For Men  \n",
       "..                                                ...  \n",
       "95                                   Sneakers For Men  \n",
       "96  Modern & Trendy Collection Combo Pack of 02 Sh...  \n",
       "97                                   Sneakers For Men  \n",
       "98                                   Sneakers For Men  \n",
       "99  Luxury Fashionable casual sneaker shoes Sneake...  \n",
       "\n",
       "[100 rows x 3 columns]"
      ]
     },
     "execution_count": 97,
     "metadata": {},
     "output_type": "execute_result"
    }
   ],
   "source": [
    "df = pd.DataFrame()\n",
    "df['Brand']=h\n",
    "df['Short Shoe Description'] = i\n",
    "df['Price of the Shoe'] = j\n",
    "df"
   ]
  },
  {
   "cell_type": "markdown",
   "id": "3884fb7d",
   "metadata": {},
   "source": [
    "# Question - 8:"
   ]
  },
  {
   "cell_type": "code",
   "execution_count": 5,
   "id": "90000971",
   "metadata": {},
   "outputs": [],
   "source": [
    "url = 'https://www.amazon.in/'\n",
    "driver.get(url)"
   ]
  },
  {
   "cell_type": "code",
   "execution_count": 6,
   "id": "7339cf59",
   "metadata": {},
   "outputs": [],
   "source": [
    "search = driver.find_element_by_xpath('/html/body/div[1]/header/div/div[1]/div[2]/div/form/div[2]/div[1]/input')\n",
    "search.send_keys('Laptop')"
   ]
  },
  {
   "cell_type": "code",
   "execution_count": 7,
   "id": "5b362dd1",
   "metadata": {},
   "outputs": [],
   "source": [
    "Search_button=driver.find_element_by_id(\"nav-search-submit-button\")\n",
    "Search_button.click()"
   ]
  },
  {
   "cell_type": "code",
   "execution_count": 8,
   "id": "542a0581",
   "metadata": {},
   "outputs": [],
   "source": [
    "see = driver.find_element_by_xpath('/html/body/div[1]/div[2]/div[1]/div[2]/div/div[3]/span/div[1]/span/div/div/div[6]/div/div/div[1]/div/span[2]/a/span')\n",
    "see.click()"
   ]
  },
  {
   "cell_type": "code",
   "execution_count": 9,
   "id": "4c86dfda",
   "metadata": {},
   "outputs": [],
   "source": [
    "i7 = driver.find_element_by_xpath('/html/body/div[1]/div[2]/div[1]/div[2]/div/div[3]/span/div[1]/span/div/div/div[6]/div/div/div[1]/div/span[1]/a[12]/div/span')\n",
    "i7.click()"
   ]
  },
  {
   "cell_type": "code",
   "execution_count": 10,
   "id": "622d3f84",
   "metadata": {},
   "outputs": [
    {
     "name": "stdout",
     "output_type": "stream",
     "text": [
      "['30,990', '30,740', '36,011', '31,290', '52,990', '50,990', '45,041', '28,990', '56,990', '38,990']\n",
      "['Dell 15 (2021) PQC-N5030, 4GB, 256GB SSD, Win 11 + MS Office\\'21, Integrated Graphics, 15.6\" (39.62 cms) HD Display, Carbon Black (Inspiron 3510, D560717WIN9B)', 'Acer Extensa 15 Thin & Light Intel Processor Pentium Silver N5030 15.6 inches Business Laptop (4GB RAM/1TB HDD/Windows 10 Home/Integrated Graphic Card/Black/1.9 Kg, EX215-31)', 'Dell Inspiron 3502 15.6 inches HD Display Laptop (Intel Pentium Silver N5030 / 4GB / 256GB SSD / Integrated Graphics / Windows 10 + MSO / Accent Black) D560427WIN9BE, 1.7kg', 'Acer Extensa 15 Thin & Light Intel Processor Pentium Silver N5030 15.6 inches Business Laptop (4GB RAM/1TB HDD/Windows 11 Home/Integrated Graphic Card/Black/1.9 Kg, EX215-31)', 'Microsoft Surface GO 2 STQ-00013 10.1\" (26.54 cms) Laptop (Gold Processor 4425Y/8GB/128GB SSD/Windows 10 Home in S Mode/Intel UHD 615 Graphics), Platinum', 'Microsoft Surface GO 3 8VA-00013 10.5\" (26.67 cms) Laptop (Intel Pentium T6600 Processor/8GB/128GB SSD/Windows 11 Home), Platinum', '(Renewed) Microsoft Surface GO 2 Intel Pentium 10.5-Inch (26.67 cms) 1920x1080 Laptop (8 GB/128 GB/Windows 10 S/Intel HD Graphics 615/Platinum/544 g), STQ-00013', 'ASUS Intel Pentium Quad Core 15.6 inches Business Laptop (4 GB/1 TB HDD/1366 X 768 HD/Windows 10 Home) Transparent Silver, 1.9 kg - X543MA-GQ1020T', 'Dell Inspiron 3501 15.6 inches FHD Display Laptop (Intel i5-1135G7 / 4GB / 1TB HDD + 256GB SSD / Integrated Graphics / Windows 10 + MSO / Soft Mint Color) D560437WIN9SE, 1.83kg', 'HP 14 Intel Pentium N6000 14-inch(35.6 cm) Laptop (8GB/256GB SSD/Windows 10/MS Office/Jet Black/1.46Kg), 14s-dq3018TU']\n"
     ]
    }
   ],
   "source": [
    "name = []\n",
    "p = []\n",
    "pr = driver.find_elements_by_xpath('//span[@class=\"a-price-whole\"]')\n",
    "na = driver.find_elements_by_xpath('//span[@class=\"a-size-medium a-color-base a-text-normal\"]')\n",
    "for i in pr:\n",
    "    p.append(i.text)\n",
    "p= p[0:10]\n",
    "print(p)\n",
    "for j in na:\n",
    "    name.append(j.text)\n",
    "name = name[0:10]\n",
    "print(name)"
   ]
  },
  {
   "cell_type": "code",
   "execution_count": 11,
   "id": "93f0f45b",
   "metadata": {},
   "outputs": [],
   "source": [
    "ur= driver.find_elements_by_xpath('//h2[@class=\"a-size-mini a-spacing-none a-color-base s-line-clamp-2\"]/a')\n",
    "url = []\n",
    "for i in ur[0:10]:\n",
    "    url.append(i.get_attribute('href'))"
   ]
  },
  {
   "cell_type": "code",
   "execution_count": 12,
   "id": "764d98d5",
   "metadata": {},
   "outputs": [
    {
     "data": {
      "text/plain": [
       "10"
      ]
     },
     "execution_count": 12,
     "metadata": {},
     "output_type": "execute_result"
    }
   ],
   "source": [
    "len(url)"
   ]
  },
  {
   "cell_type": "code",
   "execution_count": 13,
   "id": "94b43dca",
   "metadata": {},
   "outputs": [],
   "source": [
    "from selenium.common.exceptions import NoSuchElementException"
   ]
  },
  {
   "cell_type": "code",
   "execution_count": 14,
   "id": "8c5731d2",
   "metadata": {},
   "outputs": [],
   "source": [
    "rating = []\n",
    "for i in url:\n",
    "    try:\n",
    "        driver.get(i)\n",
    "        l = driver.find_element_by_xpath('//span[@class=\"a-size-base a-nowrap\"]')\n",
    "        rating.append(l.text)\n",
    "    except NoSuchElementException:\n",
    "        rating.append('No ratings avail')"
   ]
  },
  {
   "cell_type": "code",
   "execution_count": 15,
   "id": "024ded85",
   "metadata": {},
   "outputs": [
    {
     "data": {
      "text/plain": [
       "['No ratings avail',\n",
       " '3.5 out of 5',\n",
       " '4.3 out of 5',\n",
       " '4.2 out of 5',\n",
       " '4.1 out of 5',\n",
       " '3.2 out of 5',\n",
       " 'No ratings avail',\n",
       " '3.4 out of 5',\n",
       " '3.9 out of 5',\n",
       " '4.1 out of 5']"
      ]
     },
     "execution_count": 15,
     "metadata": {},
     "output_type": "execute_result"
    }
   ],
   "source": [
    "rating"
   ]
  },
  {
   "cell_type": "code",
   "execution_count": 16,
   "id": "05fb1923",
   "metadata": {},
   "outputs": [
    {
     "data": {
      "text/html": [
       "<div>\n",
       "<style scoped>\n",
       "    .dataframe tbody tr th:only-of-type {\n",
       "        vertical-align: middle;\n",
       "    }\n",
       "\n",
       "    .dataframe tbody tr th {\n",
       "        vertical-align: top;\n",
       "    }\n",
       "\n",
       "    .dataframe thead th {\n",
       "        text-align: right;\n",
       "    }\n",
       "</style>\n",
       "<table border=\"1\" class=\"dataframe\">\n",
       "  <thead>\n",
       "    <tr style=\"text-align: right;\">\n",
       "      <th></th>\n",
       "      <th>Title</th>\n",
       "      <th>Price</th>\n",
       "      <th>Ratings</th>\n",
       "    </tr>\n",
       "  </thead>\n",
       "  <tbody>\n",
       "    <tr>\n",
       "      <th>0</th>\n",
       "      <td>Dell 15 (2021) PQC-N5030, 4GB, 256GB SSD, Win ...</td>\n",
       "      <td>30,990</td>\n",
       "      <td>No ratings avail</td>\n",
       "    </tr>\n",
       "    <tr>\n",
       "      <th>1</th>\n",
       "      <td>Acer Extensa 15 Thin &amp; Light Intel Processor P...</td>\n",
       "      <td>30,740</td>\n",
       "      <td>3.5 out of 5</td>\n",
       "    </tr>\n",
       "    <tr>\n",
       "      <th>2</th>\n",
       "      <td>Dell Inspiron 3502 15.6 inches HD Display Lapt...</td>\n",
       "      <td>36,011</td>\n",
       "      <td>4.3 out of 5</td>\n",
       "    </tr>\n",
       "    <tr>\n",
       "      <th>3</th>\n",
       "      <td>Acer Extensa 15 Thin &amp; Light Intel Processor P...</td>\n",
       "      <td>31,290</td>\n",
       "      <td>4.2 out of 5</td>\n",
       "    </tr>\n",
       "    <tr>\n",
       "      <th>4</th>\n",
       "      <td>Microsoft Surface GO 2 STQ-00013 10.1\" (26.54 ...</td>\n",
       "      <td>52,990</td>\n",
       "      <td>4.1 out of 5</td>\n",
       "    </tr>\n",
       "    <tr>\n",
       "      <th>5</th>\n",
       "      <td>Microsoft Surface GO 3 8VA-00013 10.5\" (26.67 ...</td>\n",
       "      <td>50,990</td>\n",
       "      <td>3.2 out of 5</td>\n",
       "    </tr>\n",
       "    <tr>\n",
       "      <th>6</th>\n",
       "      <td>(Renewed) Microsoft Surface GO 2 Intel Pentium...</td>\n",
       "      <td>45,041</td>\n",
       "      <td>No ratings avail</td>\n",
       "    </tr>\n",
       "    <tr>\n",
       "      <th>7</th>\n",
       "      <td>ASUS Intel Pentium Quad Core 15.6 inches Busin...</td>\n",
       "      <td>28,990</td>\n",
       "      <td>3.4 out of 5</td>\n",
       "    </tr>\n",
       "    <tr>\n",
       "      <th>8</th>\n",
       "      <td>Dell Inspiron 3501 15.6 inches FHD Display Lap...</td>\n",
       "      <td>56,990</td>\n",
       "      <td>3.9 out of 5</td>\n",
       "    </tr>\n",
       "    <tr>\n",
       "      <th>9</th>\n",
       "      <td>HP 14 Intel Pentium N6000 14-inch(35.6 cm) Lap...</td>\n",
       "      <td>38,990</td>\n",
       "      <td>4.1 out of 5</td>\n",
       "    </tr>\n",
       "  </tbody>\n",
       "</table>\n",
       "</div>"
      ],
      "text/plain": [
       "                                               Title   Price           Ratings\n",
       "0  Dell 15 (2021) PQC-N5030, 4GB, 256GB SSD, Win ...  30,990  No ratings avail\n",
       "1  Acer Extensa 15 Thin & Light Intel Processor P...  30,740      3.5 out of 5\n",
       "2  Dell Inspiron 3502 15.6 inches HD Display Lapt...  36,011      4.3 out of 5\n",
       "3  Acer Extensa 15 Thin & Light Intel Processor P...  31,290      4.2 out of 5\n",
       "4  Microsoft Surface GO 2 STQ-00013 10.1\" (26.54 ...  52,990      4.1 out of 5\n",
       "5  Microsoft Surface GO 3 8VA-00013 10.5\" (26.67 ...  50,990      3.2 out of 5\n",
       "6  (Renewed) Microsoft Surface GO 2 Intel Pentium...  45,041  No ratings avail\n",
       "7  ASUS Intel Pentium Quad Core 15.6 inches Busin...  28,990      3.4 out of 5\n",
       "8  Dell Inspiron 3501 15.6 inches FHD Display Lap...  56,990      3.9 out of 5\n",
       "9  HP 14 Intel Pentium N6000 14-inch(35.6 cm) Lap...  38,990      4.1 out of 5"
      ]
     },
     "execution_count": 16,
     "metadata": {},
     "output_type": "execute_result"
    }
   ],
   "source": [
    "df = pd.DataFrame({'Title':name,'Price':p,'Ratings':rating})\n",
    "df"
   ]
  },
  {
   "cell_type": "code",
   "execution_count": 130,
   "id": "0b5e73e3",
   "metadata": {},
   "outputs": [],
   "source": [
    "#url = 'https://www.amazon.in/'\n",
    "#driver.get(url)"
   ]
  },
  {
   "cell_type": "code",
   "execution_count": 131,
   "id": "bf996a4c",
   "metadata": {},
   "outputs": [],
   "source": [
    "#search = driver.find_element_by_xpath('/html/body/div[1]/header/div/div[1]/div[2]/div/form/div[2]/div[1]/input')\n",
    "#search.send_keys('Laptop')"
   ]
  },
  {
   "cell_type": "code",
   "execution_count": 132,
   "id": "94929936",
   "metadata": {},
   "outputs": [],
   "source": [
    "#Search_button=driver.find_element_by_id(\"nav-search-submit-button\")\n",
    "#Search_button.click()"
   ]
  },
  {
   "cell_type": "code",
   "execution_count": 133,
   "id": "07cbefec",
   "metadata": {},
   "outputs": [],
   "source": [
    "#see = driver.find_element_by_xpath('/html/body/div[1]/div[2]/div[1]/div[2]/div/div[3]/span/div[1]/span/div/div/div[6]/div/div/div[1]/div/span[2]/a/span')\n",
    "#see.click()"
   ]
  },
  {
   "cell_type": "code",
   "execution_count": null,
   "id": "67a39056",
   "metadata": {},
   "outputs": [],
   "source": [
    "#i9 = driver.find_element_by_xpath('/html/body/div[1]/div[2]/div[1]/div[2]/div/div[3]/span/div[1]/span/div/div/div[6]/div/div/div[1]/div/span[1]/a[14]/div/span')\n",
    "#i9.click()"
   ]
  },
  {
   "cell_type": "code",
   "execution_count": null,
   "id": "6ccbaafa",
   "metadata": {},
   "outputs": [],
   "source": [
    "#name = []\n",
    "#p = []\n",
    "#pr = driver.find_elements_by_xpath('//span[@class=\"a-price-whole\"]')\n",
    "#na = driver.find_elements_by_xpath('//span[@class=\"a-size-medium a-color-base a-text-normal\"]')\n",
    "#for i in pr:\n",
    "    #p.append(i.text)\n",
    "#p= p[0:10]\n",
    "#print(p)\n",
    "#for j in na:\n",
    "    #name.append(j.text)\n",
    "#name = name[0:10]\n",
    "#print(name)"
   ]
  },
  {
   "cell_type": "code",
   "execution_count": null,
   "id": "8e03c485",
   "metadata": {},
   "outputs": [],
   "source": [
    "#ur= driver.find_elements_by_xpath('//h2[@class=\"a-size-mini a-spacing-none a-color-base s-line-clamp-2\"]/a')\n",
    "#url = []\n",
    "#for i in ur[0:10]:\n",
    "   # url.append(i.get_attribute('href'))"
   ]
  },
  {
   "cell_type": "code",
   "execution_count": null,
   "id": "2ac55497",
   "metadata": {},
   "outputs": [],
   "source": [
    "#rating = []\n",
    "#for i in url:\n",
    "    #try:\n",
    "        #driver.get(i)\n",
    "       # l = driver.find_element_by_xpath('//span[@class=\"a-size-base a-nowrap\"]')\n",
    "       # rating.append(l.text)\n",
    "    #except NoSuchElementException:\n",
    "        #rating.append('No ratings avail')"
   ]
  },
  {
   "cell_type": "code",
   "execution_count": null,
   "id": "6c315408",
   "metadata": {},
   "outputs": [],
   "source": [
    "#df1 = pd.DataFrame({'Title':name,'Price':p,'Ratings':rating})\n",
    "#df1"
   ]
  },
  {
   "cell_type": "code",
   "execution_count": null,
   "id": "54a02b91",
   "metadata": {},
   "outputs": [],
   "source": [
    "driver.close()"
   ]
  },
  {
   "cell_type": "markdown",
   "id": "da6bf337",
   "metadata": {},
   "source": [
    "# Question - 9:"
   ]
  },
  {
   "cell_type": "code",
   "execution_count": 102,
   "id": "672f04fb",
   "metadata": {},
   "outputs": [],
   "source": [
    "url = 'https://www.ambitionbox.com/'\n",
    "driver.get(url)"
   ]
  },
  {
   "cell_type": "code",
   "execution_count": 103,
   "id": "632082a3",
   "metadata": {},
   "outputs": [],
   "source": [
    "job= driver.find_element_by_xpath('/html/body/div[1]/nav/nav/a[6]')\n",
    "job.click()"
   ]
  },
  {
   "cell_type": "code",
   "execution_count": 104,
   "id": "d1420733",
   "metadata": {},
   "outputs": [],
   "source": [
    "search = driver.find_element_by_xpath('/html/body/div/div/div/div[2]/div[1]/div/div/div/div/span/input')\n",
    "search.send_keys('Data Scientist')"
   ]
  },
  {
   "cell_type": "code",
   "execution_count": 105,
   "id": "8f073db1",
   "metadata": {},
   "outputs": [],
   "source": [
    "Search_button=driver.find_element_by_xpath('/html/body/div/div/div/div[2]/div[1]/div/div/div/button/span')\n",
    "Search_button.click()"
   ]
  },
  {
   "cell_type": "code",
   "execution_count": 106,
   "id": "a6710fad",
   "metadata": {},
   "outputs": [],
   "source": [
    "loca=driver.find_element_by_xpath('/html/body/div/div/div/div[2]/div[2]/div[1]/div/div/div/div[2]/div[1]/p')\n",
    "loca.click()"
   ]
  },
  {
   "cell_type": "code",
   "execution_count": 107,
   "id": "69a5bb02",
   "metadata": {},
   "outputs": [],
   "source": [
    "place=driver.find_element_by_xpath('/html/body/div/div/div/div[2]/div[2]/div[1]/div/div/div/div[2]/div[2]/div/div[2]/input')\n",
    "place.send_keys('Noida')"
   ]
  },
  {
   "cell_type": "code",
   "execution_count": 108,
   "id": "d6416add",
   "metadata": {},
   "outputs": [],
   "source": [
    "enter=driver.find_element_by_xpath('/html/body/div/div/div/div[2]/div[2]/div[1]/div/div/div/div[2]/div[2]/div/div[3]/div[1]/div[1]/div/label')\n",
    "enter.click()"
   ]
  },
  {
   "cell_type": "code",
   "execution_count": 109,
   "id": "e0575e77",
   "metadata": {},
   "outputs": [
    {
     "name": "stdout",
     "output_type": "stream",
     "text": [
      "10\n",
      "20\n",
      "10\n"
     ]
    }
   ],
   "source": [
    "#heading = []\n",
    "names = []\n",
    "days = []\n",
    "ratings = []\n",
    "#head=driver.find_elements_by_xpath(\"//a[@class='title noclick']\")\n",
    "name=driver.find_elements_by_xpath(\"//p[@class='company body-medium']\")\n",
    "day =driver.find_elements_by_xpath(\"//span[@class='body-small-l']\")\n",
    "rat =driver.find_elements_by_xpath(\"//span[@class='body-small']\")\n",
    "#for i in head:\n",
    "    #heading.append(i.text)\n",
    "for j in name:\n",
    "    names.append(j.text)\n",
    "for k in day:\n",
    "    days.append(k.text)\n",
    "for l in rat:\n",
    "    ratings.append(l.text)\n",
    "#print(len(heading))\n",
    "print(len(names))\n",
    "print(len(days))\n",
    "print(len(ratings))"
   ]
  },
  {
   "cell_type": "code",
   "execution_count": 110,
   "id": "76548b5d",
   "metadata": {},
   "outputs": [
    {
     "data": {
      "text/plain": [
       "['2d ago',\n",
       " '2d ago',\n",
       " '4d ago',\n",
       " '10d ago',\n",
       " '11d ago',\n",
       " '12d ago',\n",
       " '23d ago',\n",
       " '23d ago',\n",
       " '23d ago',\n",
       " '1d ago']"
      ]
     },
     "execution_count": 110,
     "metadata": {},
     "output_type": "execute_result"
    }
   ],
   "source": [
    "n=days[0:20:2]\n",
    "n"
   ]
  },
  {
   "cell_type": "code",
   "execution_count": 111,
   "id": "dd3d3aec",
   "metadata": {},
   "outputs": [
    {
     "name": "stdout",
     "output_type": "stream",
     "text": [
      "10\n"
     ]
    }
   ],
   "source": [
    "print(len(n))"
   ]
  },
  {
   "cell_type": "code",
   "execution_count": 112,
   "id": "3a23952d",
   "metadata": {},
   "outputs": [
    {
     "data": {
      "text/html": [
       "<div>\n",
       "<style scoped>\n",
       "    .dataframe tbody tr th:only-of-type {\n",
       "        vertical-align: middle;\n",
       "    }\n",
       "\n",
       "    .dataframe tbody tr th {\n",
       "        vertical-align: top;\n",
       "    }\n",
       "\n",
       "    .dataframe thead th {\n",
       "        text-align: right;\n",
       "    }\n",
       "</style>\n",
       "<table border=\"1\" class=\"dataframe\">\n",
       "  <thead>\n",
       "    <tr style=\"text-align: right;\">\n",
       "      <th></th>\n",
       "      <th>Company Name</th>\n",
       "      <th>No. of days ago the job was posted</th>\n",
       "      <th>Rating of company</th>\n",
       "    </tr>\n",
       "  </thead>\n",
       "  <tbody>\n",
       "    <tr>\n",
       "      <th>0</th>\n",
       "      <td>HCL</td>\n",
       "      <td>2d ago</td>\n",
       "      <td>3.8</td>\n",
       "    </tr>\n",
       "    <tr>\n",
       "      <th>1</th>\n",
       "      <td>Jubilant Foodworks Limited</td>\n",
       "      <td>2d ago</td>\n",
       "      <td>3.9</td>\n",
       "    </tr>\n",
       "    <tr>\n",
       "      <th>2</th>\n",
       "      <td>Ameriprise Financial</td>\n",
       "      <td>4d ago</td>\n",
       "      <td>4.0</td>\n",
       "    </tr>\n",
       "    <tr>\n",
       "      <th>3</th>\n",
       "      <td>Paytm</td>\n",
       "      <td>10d ago</td>\n",
       "      <td>3.7</td>\n",
       "    </tr>\n",
       "    <tr>\n",
       "      <th>4</th>\n",
       "      <td>CHT Sapiense</td>\n",
       "      <td>11d ago</td>\n",
       "      <td>3.8</td>\n",
       "    </tr>\n",
       "    <tr>\n",
       "      <th>5</th>\n",
       "      <td>CHT Sapiense</td>\n",
       "      <td>12d ago</td>\n",
       "      <td>3.8</td>\n",
       "    </tr>\n",
       "    <tr>\n",
       "      <th>6</th>\n",
       "      <td>GI Group</td>\n",
       "      <td>23d ago</td>\n",
       "      <td>4.1</td>\n",
       "    </tr>\n",
       "    <tr>\n",
       "      <th>7</th>\n",
       "      <td>GI Group</td>\n",
       "      <td>23d ago</td>\n",
       "      <td>4.1</td>\n",
       "    </tr>\n",
       "    <tr>\n",
       "      <th>8</th>\n",
       "      <td>GI Group</td>\n",
       "      <td>23d ago</td>\n",
       "      <td>4.1</td>\n",
       "    </tr>\n",
       "    <tr>\n",
       "      <th>9</th>\n",
       "      <td>Cargoflash</td>\n",
       "      <td>1d ago</td>\n",
       "      <td>3.8</td>\n",
       "    </tr>\n",
       "  </tbody>\n",
       "</table>\n",
       "</div>"
      ],
      "text/plain": [
       "                 Company Name No. of days ago the job was posted  \\\n",
       "0                         HCL                             2d ago   \n",
       "1  Jubilant Foodworks Limited                             2d ago   \n",
       "2        Ameriprise Financial                             4d ago   \n",
       "3                       Paytm                            10d ago   \n",
       "4                CHT Sapiense                            11d ago   \n",
       "5                CHT Sapiense                            12d ago   \n",
       "6                    GI Group                            23d ago   \n",
       "7                    GI Group                            23d ago   \n",
       "8                    GI Group                            23d ago   \n",
       "9                  Cargoflash                             1d ago   \n",
       "\n",
       "  Rating of company  \n",
       "0               3.8  \n",
       "1               3.9  \n",
       "2               4.0  \n",
       "3               3.7  \n",
       "4               3.8  \n",
       "5               3.8  \n",
       "6               4.1  \n",
       "7               4.1  \n",
       "8               4.1  \n",
       "9               3.8  "
      ]
     },
     "execution_count": 112,
     "metadata": {},
     "output_type": "execute_result"
    }
   ],
   "source": [
    "df =pd.DataFrame()\n",
    "df['Company Name'] = names\n",
    "df['No. of days ago the job was posted'] = n\n",
    "df['Rating of company'] = ratings\n",
    "df"
   ]
  },
  {
   "cell_type": "markdown",
   "id": "53eea9ef",
   "metadata": {},
   "source": [
    "# Question - 10"
   ]
  },
  {
   "cell_type": "code",
   "execution_count": 113,
   "id": "0250bd9d",
   "metadata": {},
   "outputs": [],
   "source": [
    "url = 'https://www.ambitionbox.com/'\n",
    "driver.get(url)"
   ]
  },
  {
   "cell_type": "code",
   "execution_count": 114,
   "id": "fc23b844",
   "metadata": {},
   "outputs": [],
   "source": [
    "salary = driver.find_element_by_xpath('/html/body/div[1]/nav/nav/a[4]')\n",
    "salary.click()"
   ]
  },
  {
   "cell_type": "code",
   "execution_count": 115,
   "id": "881eee96",
   "metadata": {},
   "outputs": [],
   "source": [
    "search=driver.find_element_by_xpath('/html/body/div/div/div/main/section[1]/div[2]/div[1]/span/input')\n",
    "search.send_keys('Data Scientist')"
   ]
  },
  {
   "cell_type": "code",
   "execution_count": 116,
   "id": "c8084f66",
   "metadata": {},
   "outputs": [],
   "source": [
    "cc=driver.find_element_by_xpath('//div[@class=\"suggestion\"]')\n",
    "cc.click()"
   ]
  },
  {
   "cell_type": "code",
   "execution_count": 117,
   "id": "93ffac30",
   "metadata": {},
   "outputs": [
    {
     "data": {
      "text/plain": [
       "['Walmart',\n",
       " 'Ab Inbev',\n",
       " 'ZS',\n",
       " 'Fractal Analytics',\n",
       " 'Optum',\n",
       " 'UnitedHealth',\n",
       " 'Tiger Analytics',\n",
       " 'Verizon',\n",
       " 'Ganit Business Solutions',\n",
       " 'Ericsson']"
      ]
     },
     "execution_count": 117,
     "metadata": {},
     "output_type": "execute_result"
    }
   ],
   "source": [
    "sal = []\n",
    "salary=driver.find_elements_by_class_name('name')\n",
    "for i in salary:\n",
    "    sal.append(i.text.split('\\n')[0])\n",
    "t = sal[0:10]\n",
    "t"
   ]
  },
  {
   "cell_type": "code",
   "execution_count": 118,
   "id": "e6ddd9d5",
   "metadata": {},
   "outputs": [
    {
     "data": {
      "text/plain": [
       "['based on 10 salaries',\n",
       " 'based on 22 salaries',\n",
       " 'based on 14 salaries',\n",
       " 'based on 72 salaries',\n",
       " 'based on 23 salaries',\n",
       " 'based on 49 salaries',\n",
       " 'based on 27 salaries',\n",
       " 'based on 14 salaries',\n",
       " 'based on 13 salaries',\n",
       " 'based on 42 salaries']"
      ]
     },
     "execution_count": 118,
     "metadata": {},
     "output_type": "execute_result"
    }
   ],
   "source": [
    "Avg_sal = []\n",
    "Average=driver.find_elements_by_class_name('name')\n",
    "for i in salary:\n",
    "    Avg_sal.append(i.text.split('\\n')[-1])\n",
    "s = Avg_sal[0:10]\n",
    "s"
   ]
  },
  {
   "cell_type": "code",
   "execution_count": 119,
   "id": "e8f58840",
   "metadata": {},
   "outputs": [
    {
     "data": {
      "text/plain": [
       "['3 yrs exp',\n",
       " '3-4 yrs exp',\n",
       " '2 yrs exp',\n",
       " '2-4 yrs exp',\n",
       " '3-4 yrs exp',\n",
       " '2-4 yrs exp',\n",
       " '3-4 yrs exp',\n",
       " '4 yrs exp',\n",
       " '4 yrs exp',\n",
       " '3-4 yrs exp']"
      ]
     },
     "execution_count": 119,
     "metadata": {},
     "output_type": "execute_result"
    }
   ],
   "source": [
    "Experience = []\n",
    "Exp=driver.find_elements_by_xpath('//div[@class=\"salaries sbold-list-header\"]')\n",
    "for i in Exp:\n",
    "    Experience.append(i.text.split('\\n')[-1])\n",
    "Experience"
   ]
  },
  {
   "cell_type": "code",
   "execution_count": 120,
   "id": "e68d2a79",
   "metadata": {},
   "outputs": [
    {
     "data": {
      "text/plain": [
       "['₹ 17.7L',\n",
       " '₹ 15.0L',\n",
       " '₹ 9.8L',\n",
       " '₹ 9.5L',\n",
       " '₹ 11.0L',\n",
       " '₹ 7.2L',\n",
       " '₹ 8.3L',\n",
       " '₹ 10.0L',\n",
       " '₹ 8.5L',\n",
       " '₹ 5.8L']"
      ]
     },
     "execution_count": 120,
     "metadata": {},
     "output_type": "execute_result"
    }
   ],
   "source": [
    "min_salary = []\n",
    "sal=driver.find_elements_by_xpath('//div[@class=\"value body-medium\"]')\n",
    "for i in sal:\n",
    "    min_salary.append(i.text)\n",
    "q = min_salary[0:20:2]\n",
    "q"
   ]
  },
  {
   "cell_type": "code",
   "execution_count": 121,
   "id": "0b9f6433",
   "metadata": {},
   "outputs": [
    {
     "data": {
      "text/plain": [
       "['₹ 28.7L',\n",
       " '₹ 19.5L',\n",
       " '₹ 15.8L',\n",
       " '₹ 15.0L',\n",
       " '₹ 15.0L',\n",
       " '₹ 13.5L',\n",
       " '₹ 13.5L',\n",
       " '₹ 12.7L',\n",
       " '₹ 12.4L',\n",
       " '₹ 11.9L']"
      ]
     },
     "execution_count": 121,
     "metadata": {},
     "output_type": "execute_result"
    }
   ],
   "source": [
    "Average_salary = []\n",
    "Avg=driver.find_elements_by_xpath('//div[@class=\"average-indicator-wrapper\"]')\n",
    "for i in Avg:\n",
    "    Average_salary.append(i.text)\n",
    "Average_salary"
   ]
  },
  {
   "cell_type": "code",
   "execution_count": 122,
   "id": "191f80a0",
   "metadata": {},
   "outputs": [
    {
     "data": {
      "text/plain": [
       "['₹ 35.0L',\n",
       " '₹ 25.0L',\n",
       " '₹ 20.0L',\n",
       " '₹ 22.0L',\n",
       " '₹ 21.3L',\n",
       " '₹ 20.5L',\n",
       " '₹ 18.5L',\n",
       " '₹ 21.0L',\n",
       " '₹ 15.0L',\n",
       " '₹ 21.5L']"
      ]
     },
     "execution_count": 122,
     "metadata": {},
     "output_type": "execute_result"
    }
   ],
   "source": [
    "Maximum_salary = []\n",
    "Max=driver.find_elements_by_xpath('//div[@class=\"value body-medium\"]')\n",
    "for i in Max:\n",
    "    Maximum_salary.append(i.text)\n",
    "r = Maximum_salary[1:20:2]\n",
    "r"
   ]
  },
  {
   "cell_type": "code",
   "execution_count": 123,
   "id": "c0454f75",
   "metadata": {},
   "outputs": [
    {
     "data": {
      "text/html": [
       "<div>\n",
       "<style scoped>\n",
       "    .dataframe tbody tr th:only-of-type {\n",
       "        vertical-align: middle;\n",
       "    }\n",
       "\n",
       "    .dataframe tbody tr th {\n",
       "        vertical-align: top;\n",
       "    }\n",
       "\n",
       "    .dataframe thead th {\n",
       "        text-align: right;\n",
       "    }\n",
       "</style>\n",
       "<table border=\"1\" class=\"dataframe\">\n",
       "  <thead>\n",
       "    <tr style=\"text-align: right;\">\n",
       "      <th></th>\n",
       "      <th>Company Name</th>\n",
       "      <th>Total salary record</th>\n",
       "      <th>Experience</th>\n",
       "      <th>Minimum salary</th>\n",
       "      <th>Average salary</th>\n",
       "      <th>Maximum salary</th>\n",
       "    </tr>\n",
       "  </thead>\n",
       "  <tbody>\n",
       "    <tr>\n",
       "      <th>0</th>\n",
       "      <td>Walmart</td>\n",
       "      <td>based on 10 salaries</td>\n",
       "      <td>3 yrs exp</td>\n",
       "      <td>₹ 17.7L</td>\n",
       "      <td>₹ 28.7L</td>\n",
       "      <td>₹ 35.0L</td>\n",
       "    </tr>\n",
       "    <tr>\n",
       "      <th>1</th>\n",
       "      <td>Ab Inbev</td>\n",
       "      <td>based on 22 salaries</td>\n",
       "      <td>3-4 yrs exp</td>\n",
       "      <td>₹ 15.0L</td>\n",
       "      <td>₹ 19.5L</td>\n",
       "      <td>₹ 25.0L</td>\n",
       "    </tr>\n",
       "    <tr>\n",
       "      <th>2</th>\n",
       "      <td>ZS</td>\n",
       "      <td>based on 14 salaries</td>\n",
       "      <td>2 yrs exp</td>\n",
       "      <td>₹ 9.8L</td>\n",
       "      <td>₹ 15.8L</td>\n",
       "      <td>₹ 20.0L</td>\n",
       "    </tr>\n",
       "    <tr>\n",
       "      <th>3</th>\n",
       "      <td>Fractal Analytics</td>\n",
       "      <td>based on 72 salaries</td>\n",
       "      <td>2-4 yrs exp</td>\n",
       "      <td>₹ 9.5L</td>\n",
       "      <td>₹ 15.0L</td>\n",
       "      <td>₹ 22.0L</td>\n",
       "    </tr>\n",
       "    <tr>\n",
       "      <th>4</th>\n",
       "      <td>Optum</td>\n",
       "      <td>based on 23 salaries</td>\n",
       "      <td>3-4 yrs exp</td>\n",
       "      <td>₹ 11.0L</td>\n",
       "      <td>₹ 15.0L</td>\n",
       "      <td>₹ 21.3L</td>\n",
       "    </tr>\n",
       "    <tr>\n",
       "      <th>5</th>\n",
       "      <td>UnitedHealth</td>\n",
       "      <td>based on 49 salaries</td>\n",
       "      <td>2-4 yrs exp</td>\n",
       "      <td>₹ 7.2L</td>\n",
       "      <td>₹ 13.5L</td>\n",
       "      <td>₹ 20.5L</td>\n",
       "    </tr>\n",
       "    <tr>\n",
       "      <th>6</th>\n",
       "      <td>Tiger Analytics</td>\n",
       "      <td>based on 27 salaries</td>\n",
       "      <td>3-4 yrs exp</td>\n",
       "      <td>₹ 8.3L</td>\n",
       "      <td>₹ 13.5L</td>\n",
       "      <td>₹ 18.5L</td>\n",
       "    </tr>\n",
       "    <tr>\n",
       "      <th>7</th>\n",
       "      <td>Verizon</td>\n",
       "      <td>based on 14 salaries</td>\n",
       "      <td>4 yrs exp</td>\n",
       "      <td>₹ 10.0L</td>\n",
       "      <td>₹ 12.7L</td>\n",
       "      <td>₹ 21.0L</td>\n",
       "    </tr>\n",
       "    <tr>\n",
       "      <th>8</th>\n",
       "      <td>Ganit Business Solutions</td>\n",
       "      <td>based on 13 salaries</td>\n",
       "      <td>4 yrs exp</td>\n",
       "      <td>₹ 8.5L</td>\n",
       "      <td>₹ 12.4L</td>\n",
       "      <td>₹ 15.0L</td>\n",
       "    </tr>\n",
       "    <tr>\n",
       "      <th>9</th>\n",
       "      <td>Ericsson</td>\n",
       "      <td>based on 42 salaries</td>\n",
       "      <td>3-4 yrs exp</td>\n",
       "      <td>₹ 5.8L</td>\n",
       "      <td>₹ 11.9L</td>\n",
       "      <td>₹ 21.5L</td>\n",
       "    </tr>\n",
       "  </tbody>\n",
       "</table>\n",
       "</div>"
      ],
      "text/plain": [
       "               Company Name   Total salary record   Experience Minimum salary  \\\n",
       "0                   Walmart  based on 10 salaries    3 yrs exp        ₹ 17.7L   \n",
       "1                  Ab Inbev  based on 22 salaries  3-4 yrs exp        ₹ 15.0L   \n",
       "2                        ZS  based on 14 salaries    2 yrs exp         ₹ 9.8L   \n",
       "3         Fractal Analytics  based on 72 salaries  2-4 yrs exp         ₹ 9.5L   \n",
       "4                     Optum  based on 23 salaries  3-4 yrs exp        ₹ 11.0L   \n",
       "5              UnitedHealth  based on 49 salaries  2-4 yrs exp         ₹ 7.2L   \n",
       "6           Tiger Analytics  based on 27 salaries  3-4 yrs exp         ₹ 8.3L   \n",
       "7                   Verizon  based on 14 salaries    4 yrs exp        ₹ 10.0L   \n",
       "8  Ganit Business Solutions  based on 13 salaries    4 yrs exp         ₹ 8.5L   \n",
       "9                  Ericsson  based on 42 salaries  3-4 yrs exp         ₹ 5.8L   \n",
       "\n",
       "  Average salary Maximum salary  \n",
       "0        ₹ 28.7L        ₹ 35.0L  \n",
       "1        ₹ 19.5L        ₹ 25.0L  \n",
       "2        ₹ 15.8L        ₹ 20.0L  \n",
       "3        ₹ 15.0L        ₹ 22.0L  \n",
       "4        ₹ 15.0L        ₹ 21.3L  \n",
       "5        ₹ 13.5L        ₹ 20.5L  \n",
       "6        ₹ 13.5L        ₹ 18.5L  \n",
       "7        ₹ 12.7L        ₹ 21.0L  \n",
       "8        ₹ 12.4L        ₹ 15.0L  \n",
       "9        ₹ 11.9L        ₹ 21.5L  "
      ]
     },
     "execution_count": 123,
     "metadata": {},
     "output_type": "execute_result"
    }
   ],
   "source": [
    "df =pd.DataFrame()\n",
    "df['Company Name'] = t\n",
    "df['Total salary record'] = s\n",
    "df['Experience'] = Experience\n",
    "df['Minimum salary'] = q\n",
    "df['Average salary'] = Average_salary\n",
    "df['Maximum salary'] = r\n",
    "df"
   ]
  },
  {
   "cell_type": "code",
   "execution_count": 128,
   "id": "96806f3b",
   "metadata": {},
   "outputs": [],
   "source": [
    "driver.close()"
   ]
  },
  {
   "cell_type": "code",
   "execution_count": 129,
   "id": "ca070b10",
   "metadata": {},
   "outputs": [],
   "source": [
    "# Now we will connect to the web driver:\n",
    "\n",
    "driver = webdriver.Chrome('chromedriver.exe')"
   ]
  },
  {
   "cell_type": "code",
   "execution_count": null,
   "id": "0d3022a5",
   "metadata": {},
   "outputs": [],
   "source": []
  }
 ],
 "metadata": {
  "kernelspec": {
   "display_name": "Python 3 (ipykernel)",
   "language": "python",
   "name": "python3"
  },
  "language_info": {
   "codemirror_mode": {
    "name": "ipython",
    "version": 3
   },
   "file_extension": ".py",
   "mimetype": "text/x-python",
   "name": "python",
   "nbconvert_exporter": "python",
   "pygments_lexer": "ipython3",
   "version": "3.9.7"
  }
 },
 "nbformat": 4,
 "nbformat_minor": 5
}
